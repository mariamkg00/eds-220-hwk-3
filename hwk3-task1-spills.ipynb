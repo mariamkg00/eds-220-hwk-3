{
 "cells": [
  {
   "cell_type": "markdown",
   "metadata": {},
   "source": [
    "# Task 1  \n",
    "\n",
    "## General instructions\n",
    "\n",
    "First, update the following text to have a link to your Homework 2 GitHub repository:\n",
    "\n",
    "**UPDATE THIS LINK**\n",
    "https://github.com/mariamkg00/eds-220-hwk3\n",
    "\n",
    "Add comments for all your code and commit as needed. Err on the side of commenting and commiting too much for now. Points will be deducted for insufficient comments.\n",
    "\n",
    "\n",
    "## About the data\n",
    "In this task you will use two datsets:\n",
    "\n",
    "**First dataset**\n",
    "\n",
    "The first dataset contains information about [spilling incidents in the state of New York](https://data.ny.gov/Energy-Environment/Spill-Incidents/u44d-k5fk). \n",
    "The data portal has plenty of information. \n",
    "You will find extra information and metadata for this datset in the 'NYSDEC_SpillIncidents_Overview.pdf' and 'NYSDEC_SpillIncidents_DataDictionary.pdf' documents available at the portal.\n",
    "\n",
    "You can access this datset via its URL or download it as a csv. \n",
    "If you chose to access it via URL, it will take a while to load every time you import it. \n",
    "\n",
    "**Second dataset**\n",
    "\n",
    "The second dataset is a [TIGER shapefile from the United States Census Bureau](https://www.census.gov/geographies/mapping-files/time-series/geo/tiger-line-file.2022.html#list-tab-790442341). \n",
    "For this task you will need to **download the 2022 counties (and equivalent) TIGER shapefile**. \n",
    "You can check the [metadata for all the TIGER shapefiles here](https://www.census.gov/programs-surveys/geography/technical-documentation/complete-technical-documentation/tiger-geo-line.html). \n",
    "\n",
    "\n",
    "\n",
    "## File management\n",
    "Make sure all your data files are inside a directory named 'data' inside your repository's directory (working directory)."
   ]
  },
  {
   "cell_type": "markdown",
   "metadata": {},
   "source": [
    "## Datasets description\n",
    "Read the metadata for both datsets and write a brief description about each once. Indicate the date sources and date of access.\n",
    "\n",
    "The first dataset contains records of spills of petroleum and other hazardous materials in the state of NY. Columns include information about the spill's date and time, location, and bodies of water affected (if any).\n",
    "The second dataset (county data) contains the current geographic boundaries of entities within the US, which includes Puerto Rico and some islands. It also includes some geographic feature files."
   ]
  },
  {
   "cell_type": "markdown",
   "metadata": {},
   "source": [
    "## FINAL CODE\n",
    "\n",
    "You will use the next cell at the end of the task. Leave it blank for now. "
   ]
  },
  {
   "cell_type": "code",
   "execution_count": 1,
   "metadata": {},
   "outputs": [],
   "source": [
    "### ===== FINAL CODE ====="
   ]
  },
  {
   "cell_type": "markdown",
   "metadata": {},
   "source": [
    "<!-- write your description in this markdwon cell -->"
   ]
  },
  {
   "cell_type": "markdown",
   "metadata": {},
   "source": [
    "## Import libraries"
   ]
  },
  {
   "cell_type": "code",
   "execution_count": 2,
   "metadata": {
    "tags": []
   },
   "outputs": [],
   "source": [
    "# import libraries here\n",
    "import pandas as pd\n",
    "import numpy as np\n",
    "import geopandas as gpd\n",
    "import matplotlib.pyplot as plt\n",
    "\n",
    "pd.set_option('display.max.columns', None)"
   ]
  },
  {
   "cell_type": "markdown",
   "metadata": {},
   "source": [
    "## Import data \n",
    "In the next cell:\n",
    "\n",
    "- Import the NY spills data as a variable named `spills`. \n",
    "- Import the US counties shapefile as a variable named `counties`.\n"
   ]
  },
  {
   "cell_type": "code",
   "execution_count": 3,
   "metadata": {
    "tags": []
   },
   "outputs": [],
   "source": [
    "# importing NY data\n",
    "spills = pd.read_csv('data/Spill_Incidents.csv')\n",
    "\n",
    "# importing county data\n",
    "counties = gpd.read_file('data/tl_2022_us_county/tl_2022_us_county.shp')"
   ]
  },
  {
   "cell_type": "markdown",
   "metadata": {},
   "source": [
    "## Prepare spills data\n",
    "\n",
    "This section refers to the `spills` dataframe. \n",
    "Check the outputs carefully, they will give you context about the next exercises.\n",
    "\n",
    "### Exploration\n",
    "\n",
    "In the next cells:\n",
    "\n",
    "1. Check the dataframe's head\n",
    "2. Simplify column names as needed\n",
    "3. Check the data types of the columns\n",
    "4. Check the unique values in the `material_family` column\n",
    "5. Check the unique values in the `county` column\n",
    "\n",
    "You can add any other cells of preliminary data exploration."
   ]
  },
  {
   "cell_type": "code",
   "execution_count": 4,
   "metadata": {
    "tags": []
   },
   "outputs": [
    {
     "data": {
      "text/plain": [
       "(542294, 20)"
      ]
     },
     "execution_count": 4,
     "metadata": {},
     "output_type": "execute_result"
    }
   ],
   "source": [
    "# checking the shape of the data frame\n",
    "spills.shape"
   ]
  },
  {
   "cell_type": "markdown",
   "metadata": {},
   "source": [
    "The NY Spills dataset has 542294 rows and 20 columns."
   ]
  },
  {
   "cell_type": "code",
   "execution_count": 5,
   "metadata": {
    "tags": []
   },
   "outputs": [
    {
     "data": {
      "text/html": [
       "<div>\n",
       "<style scoped>\n",
       "    .dataframe tbody tr th:only-of-type {\n",
       "        vertical-align: middle;\n",
       "    }\n",
       "\n",
       "    .dataframe tbody tr th {\n",
       "        vertical-align: top;\n",
       "    }\n",
       "\n",
       "    .dataframe thead th {\n",
       "        text-align: right;\n",
       "    }\n",
       "</style>\n",
       "<table border=\"1\" class=\"dataframe\">\n",
       "  <thead>\n",
       "    <tr style=\"text-align: right;\">\n",
       "      <th></th>\n",
       "      <th>Spill Number</th>\n",
       "      <th>Program Facility Name</th>\n",
       "      <th>Street 1</th>\n",
       "      <th>Street 2</th>\n",
       "      <th>Locality</th>\n",
       "      <th>County</th>\n",
       "      <th>ZIP Code</th>\n",
       "      <th>SWIS Code</th>\n",
       "      <th>DEC Region</th>\n",
       "      <th>Spill Date</th>\n",
       "      <th>Received Date</th>\n",
       "      <th>Contributing Factor</th>\n",
       "      <th>Waterbody</th>\n",
       "      <th>Source</th>\n",
       "      <th>Close Date</th>\n",
       "      <th>Material Name</th>\n",
       "      <th>Material Family</th>\n",
       "      <th>Quantity</th>\n",
       "      <th>Units</th>\n",
       "      <th>Recovered</th>\n",
       "    </tr>\n",
       "  </thead>\n",
       "  <tbody>\n",
       "    <tr>\n",
       "      <th>0</th>\n",
       "      <td>107132</td>\n",
       "      <td>MH 864</td>\n",
       "      <td>RT 119/MILLWOOD RD</td>\n",
       "      <td>NaN</td>\n",
       "      <td>ELMSFORD</td>\n",
       "      <td>Westchester</td>\n",
       "      <td>NaN</td>\n",
       "      <td>6000</td>\n",
       "      <td>3</td>\n",
       "      <td>10/10/2001</td>\n",
       "      <td>10/10/2001</td>\n",
       "      <td>Unknown</td>\n",
       "      <td>NaN</td>\n",
       "      <td>Unknown</td>\n",
       "      <td>10/15/2001</td>\n",
       "      <td>unknown material</td>\n",
       "      <td>Other</td>\n",
       "      <td>10.0</td>\n",
       "      <td>Gallons</td>\n",
       "      <td>0.0</td>\n",
       "    </tr>\n",
       "    <tr>\n",
       "      <th>1</th>\n",
       "      <td>405586</td>\n",
       "      <td>BOWRY BAY</td>\n",
       "      <td>WATER POLL CONTROL</td>\n",
       "      <td>NaN</td>\n",
       "      <td>QUEENS</td>\n",
       "      <td>Queens</td>\n",
       "      <td>NaN</td>\n",
       "      <td>4101</td>\n",
       "      <td>2</td>\n",
       "      <td>08/21/2004</td>\n",
       "      <td>08/21/2004</td>\n",
       "      <td>Other</td>\n",
       "      <td>EAST RIVER</td>\n",
       "      <td>Unknown</td>\n",
       "      <td>09/17/2004</td>\n",
       "      <td>raw sewage</td>\n",
       "      <td>Other</td>\n",
       "      <td>0.0</td>\n",
       "      <td>Pounds</td>\n",
       "      <td>0.0</td>\n",
       "    </tr>\n",
       "    <tr>\n",
       "      <th>2</th>\n",
       "      <td>405586</td>\n",
       "      <td>BOWRY BAY</td>\n",
       "      <td>WATER POLL CONTROL</td>\n",
       "      <td>NaN</td>\n",
       "      <td>QUEENS</td>\n",
       "      <td>Queens</td>\n",
       "      <td>NaN</td>\n",
       "      <td>4101</td>\n",
       "      <td>2</td>\n",
       "      <td>08/21/2004</td>\n",
       "      <td>08/21/2004</td>\n",
       "      <td>Other</td>\n",
       "      <td>EAST RIVER</td>\n",
       "      <td>Unknown</td>\n",
       "      <td>09/17/2004</td>\n",
       "      <td>raw sewage</td>\n",
       "      <td>Other</td>\n",
       "      <td>0.0</td>\n",
       "      <td>NaN</td>\n",
       "      <td>0.0</td>\n",
       "    </tr>\n",
       "    <tr>\n",
       "      <th>3</th>\n",
       "      <td>204667</td>\n",
       "      <td>POLE 16091</td>\n",
       "      <td>GRACE AVE/BURKE AVE</td>\n",
       "      <td>NaN</td>\n",
       "      <td>BRONX</td>\n",
       "      <td>Bronx</td>\n",
       "      <td>NaN</td>\n",
       "      <td>301</td>\n",
       "      <td>2</td>\n",
       "      <td>08/02/2002</td>\n",
       "      <td>08/02/2002</td>\n",
       "      <td>Equipment Failure</td>\n",
       "      <td>NaN</td>\n",
       "      <td>Commercial/Industrial</td>\n",
       "      <td>10/28/2002</td>\n",
       "      <td>transformer oil</td>\n",
       "      <td>Petroleum</td>\n",
       "      <td>1.0</td>\n",
       "      <td>Gallons</td>\n",
       "      <td>0.0</td>\n",
       "    </tr>\n",
       "    <tr>\n",
       "      <th>4</th>\n",
       "      <td>210559</td>\n",
       "      <td>POLE ON</td>\n",
       "      <td>FERDALE LOMIS RD / RT 52</td>\n",
       "      <td>NaN</td>\n",
       "      <td>LIBERTY</td>\n",
       "      <td>Sullivan</td>\n",
       "      <td>NaN</td>\n",
       "      <td>5336</td>\n",
       "      <td>3</td>\n",
       "      <td>01/20/2003</td>\n",
       "      <td>01/20/2003</td>\n",
       "      <td>Traffic Accident</td>\n",
       "      <td>NaN</td>\n",
       "      <td>Commercial/Industrial</td>\n",
       "      <td>01/22/2003</td>\n",
       "      <td>transformer oil</td>\n",
       "      <td>Petroleum</td>\n",
       "      <td>6.0</td>\n",
       "      <td>Gallons</td>\n",
       "      <td>6.0</td>\n",
       "    </tr>\n",
       "    <tr>\n",
       "      <th>5</th>\n",
       "      <td>311484</td>\n",
       "      <td>PRIVATE RESIDENCE</td>\n",
       "      <td>6568 GLEN HAVEN RD</td>\n",
       "      <td>NaN</td>\n",
       "      <td>SCOTT</td>\n",
       "      <td>Cortland</td>\n",
       "      <td>NaN</td>\n",
       "      <td>1238</td>\n",
       "      <td>7</td>\n",
       "      <td>01/11/2004</td>\n",
       "      <td>01/11/2004</td>\n",
       "      <td>Equipment Failure</td>\n",
       "      <td>NaN</td>\n",
       "      <td>Private Dwelling</td>\n",
       "      <td>08/25/2004</td>\n",
       "      <td>#2 fuel oil</td>\n",
       "      <td>Petroleum</td>\n",
       "      <td>75.0</td>\n",
       "      <td>Gallons</td>\n",
       "      <td>0.0</td>\n",
       "    </tr>\n",
       "    <tr>\n",
       "      <th>6</th>\n",
       "      <td>104307</td>\n",
       "      <td>149TH RD</td>\n",
       "      <td>183RD ST, 149TH AV&amp; 149RD</td>\n",
       "      <td>NaN</td>\n",
       "      <td>QUEENS</td>\n",
       "      <td>Queens</td>\n",
       "      <td>NaN</td>\n",
       "      <td>4101</td>\n",
       "      <td>2</td>\n",
       "      <td>07/23/2001</td>\n",
       "      <td>07/23/2001</td>\n",
       "      <td>Abandoned Drums</td>\n",
       "      <td>NaN</td>\n",
       "      <td>Unknown</td>\n",
       "      <td>08/01/2001</td>\n",
       "      <td>unknown material</td>\n",
       "      <td>Other</td>\n",
       "      <td>0.0</td>\n",
       "      <td>Gallons</td>\n",
       "      <td>0.0</td>\n",
       "    </tr>\n",
       "  </tbody>\n",
       "</table>\n",
       "</div>"
      ],
      "text/plain": [
       "   Spill Number Program Facility Name                   Street 1 Street 2  \\\n",
       "0        107132                MH 864         RT 119/MILLWOOD RD      NaN   \n",
       "1        405586             BOWRY BAY         WATER POLL CONTROL      NaN   \n",
       "2        405586             BOWRY BAY         WATER POLL CONTROL      NaN   \n",
       "3        204667            POLE 16091        GRACE AVE/BURKE AVE      NaN   \n",
       "4        210559               POLE ON   FERDALE LOMIS RD / RT 52      NaN   \n",
       "5        311484     PRIVATE RESIDENCE         6568 GLEN HAVEN RD      NaN   \n",
       "6        104307              149TH RD  183RD ST, 149TH AV& 149RD      NaN   \n",
       "\n",
       "   Locality       County ZIP Code  SWIS Code  DEC Region  Spill Date  \\\n",
       "0  ELMSFORD  Westchester      NaN       6000           3  10/10/2001   \n",
       "1    QUEENS       Queens      NaN       4101           2  08/21/2004   \n",
       "2    QUEENS       Queens      NaN       4101           2  08/21/2004   \n",
       "3     BRONX        Bronx      NaN        301           2  08/02/2002   \n",
       "4   LIBERTY     Sullivan      NaN       5336           3  01/20/2003   \n",
       "5     SCOTT     Cortland      NaN       1238           7  01/11/2004   \n",
       "6    QUEENS       Queens      NaN       4101           2  07/23/2001   \n",
       "\n",
       "  Received Date Contributing Factor   Waterbody                 Source  \\\n",
       "0    10/10/2001             Unknown         NaN                Unknown   \n",
       "1    08/21/2004               Other  EAST RIVER                Unknown   \n",
       "2    08/21/2004               Other  EAST RIVER                Unknown   \n",
       "3    08/02/2002   Equipment Failure         NaN  Commercial/Industrial   \n",
       "4    01/20/2003    Traffic Accident         NaN  Commercial/Industrial   \n",
       "5    01/11/2004   Equipment Failure         NaN       Private Dwelling   \n",
       "6    07/23/2001     Abandoned Drums         NaN                Unknown   \n",
       "\n",
       "   Close Date     Material Name Material Family  Quantity    Units  Recovered  \n",
       "0  10/15/2001  unknown material           Other      10.0  Gallons        0.0  \n",
       "1  09/17/2004        raw sewage           Other       0.0   Pounds        0.0  \n",
       "2  09/17/2004        raw sewage           Other       0.0      NaN        0.0  \n",
       "3  10/28/2002   transformer oil       Petroleum       1.0  Gallons        0.0  \n",
       "4  01/22/2003   transformer oil       Petroleum       6.0  Gallons        6.0  \n",
       "5  08/25/2004       #2 fuel oil       Petroleum      75.0  Gallons        0.0  \n",
       "6  08/01/2001  unknown material           Other       0.0  Gallons        0.0  "
      ]
     },
     "execution_count": 5,
     "metadata": {},
     "output_type": "execute_result"
    }
   ],
   "source": [
    " # 1. using head(7) to see the first seven rows\n",
    "spills.head(7)"
   ]
  },
  {
   "cell_type": "code",
   "execution_count": 6,
   "metadata": {
    "tags": []
   },
   "outputs": [],
   "source": [
    "# 2. changing the column names to be lower case \n",
    "spills.columns = spills.columns.str.lower()\n",
    "\n",
    "#replacing space with _\n",
    "spills.columns = spills.columns.str.replace(' ', '_')\n",
    "\n",
    "# changing spill_date and received_date to date_time index\n",
    "spills.spill_date = pd.to_datetime(spills.spill_date)\n",
    "spills.received_date = pd.to_datetime(spills.received_date)"
   ]
  },
  {
   "cell_type": "code",
   "execution_count": 7,
   "metadata": {
    "tags": []
   },
   "outputs": [
    {
     "data": {
      "text/plain": [
       "spill_number                      int64\n",
       "program_facility_name            object\n",
       "street_1                         object\n",
       "street_2                         object\n",
       "locality                         object\n",
       "county                           object\n",
       "zip_code                         object\n",
       "swis_code                         int64\n",
       "dec_region                        int64\n",
       "spill_date               datetime64[ns]\n",
       "received_date            datetime64[ns]\n",
       "contributing_factor              object\n",
       "waterbody                        object\n",
       "source                           object\n",
       "close_date                       object\n",
       "material_name                    object\n",
       "material_family                  object\n",
       "quantity                        float64\n",
       "units                            object\n",
       "recovered                       float64\n",
       "dtype: object"
      ]
     },
     "execution_count": 7,
     "metadata": {},
     "output_type": "execute_result"
    }
   ],
   "source": [
    "# 3.\n",
    " # checking the data types of the columns in spills\n",
    "spills.dtypes"
   ]
  },
  {
   "cell_type": "code",
   "execution_count": 8,
   "metadata": {
    "tags": []
   },
   "outputs": [
    {
     "data": {
      "text/plain": [
       "array(['Other', 'Petroleum', 'Hazardous Material', 'Oxygenates'],\n",
       "      dtype=object)"
      ]
     },
     "execution_count": 8,
     "metadata": {},
     "output_type": "execute_result"
    }
   ],
   "source": [
    "# 4.  checking for unique values in material_family column\n",
    "spills.material_family.unique()"
   ]
  },
  {
   "cell_type": "markdown",
   "metadata": {},
   "source": [
    "There appears to be four options of material families : Petroleum, Hazardous Material, Oxygenates, and other. "
   ]
  },
  {
   "cell_type": "code",
   "execution_count": 9,
   "metadata": {
    "tags": []
   },
   "outputs": [
    {
     "data": {
      "text/plain": [
       "87"
      ]
     },
     "execution_count": 9,
     "metadata": {},
     "output_type": "execute_result"
    }
   ],
   "source": [
    "# 5.checking for unique values in the county column\n",
    "spills.county.unique()\n",
    "\n",
    "len(spills.county.unique())"
   ]
  },
  {
   "cell_type": "markdown",
   "metadata": {},
   "source": [
    "In checking how many counties are included in the `spills` dataset, there appear to be 87 included. "
   ]
  },
  {
   "cell_type": "markdown",
   "metadata": {},
   "source": [
    "### Data selection\n",
    "\n",
    "1. Select data about petroleum spills that took place between January 1st 2023, and October 31st (including both dates), 2023. Store it in a variable named `petr_23`. The data selection should occur in a single line. You may add cells if you needed."
   ]
  },
  {
   "cell_type": "code",
   "execution_count": 10,
   "metadata": {
    "tags": []
   },
   "outputs": [],
   "source": [
    "# filtering for dates and petroleum using loc \n",
    "petr_23 = spills.loc[(spills.spill_date >= '2023-01-01') & (spills.spill_date <= '2023-10-31') & (spills.material_family == 'Petroleum')]"
   ]
  },
  {
   "cell_type": "markdown",
   "metadata": {},
   "source": [
    "2. Verify that `petr_23` only has data for petroleum spills "
   ]
  },
  {
   "cell_type": "code",
   "execution_count": 11,
   "metadata": {
    "tags": []
   },
   "outputs": [
    {
     "data": {
      "text/plain": [
       "1"
      ]
     },
     "execution_count": 11,
     "metadata": {},
     "output_type": "execute_result"
    }
   ],
   "source": [
    "# using unique for material family to make sure it only contains for petroleum\n",
    "petr_23.material_family.unique()\n",
    "len(petr_23.material_family.unique())"
   ]
  },
  {
   "cell_type": "markdown",
   "metadata": {},
   "source": [
    "3. Verify that `petr_23` only has data for 2023. \n",
    "HINT: if you converted the `spill_date` column to datetime, you can use `petr_23.spill_date.dt.year.unique()`"
   ]
  },
  {
   "cell_type": "code",
   "execution_count": 12,
   "metadata": {
    "tags": []
   },
   "outputs": [
    {
     "data": {
      "text/plain": [
       "array([2023])"
      ]
     },
     "execution_count": 12,
     "metadata": {},
     "output_type": "execute_result"
    }
   ],
   "source": [
    "# checking the unique years to see if 2023 is the only year in this dataframe\n",
    "petr_23.spill_date.dt.year.unique()"
   ]
  },
  {
   "cell_type": "markdown",
   "metadata": {},
   "source": [
    "4. Verify that `petr_23` only has data from January to October. "
   ]
  },
  {
   "cell_type": "code",
   "execution_count": 13,
   "metadata": {
    "tags": []
   },
   "outputs": [
    {
     "data": {
      "text/plain": [
       "array([ 6,  8,  9,  7,  1,  2,  3, 10,  5,  4])"
      ]
     },
     "execution_count": 13,
     "metadata": {},
     "output_type": "execute_result"
    }
   ],
   "source": [
    "# checking to see if data only contains specified months\n",
    "petr_23.spill_date.dt.month.unique()"
   ]
  },
  {
   "cell_type": "markdown",
   "metadata": {},
   "source": [
    "### Data aggregation\n",
    "\n",
    "Create new dataframe named `spills_per_county` with the number of petroleum spills per county from January to October 2023 (i.e. use the `petr_23` dataframe).\n",
    "\n",
    "The resulting `spills_per_county` dataframe must be as follows:\n",
    "\n",
    "- Index: integer numbers starting from 0\n",
    "- Column one: county names, column name = `county`\n",
    "- Column two: number of petroleum spills per county in 2023, column name = `n_spills`\n",
    "\n",
    "You may add cells if you needed."
   ]
  },
  {
   "cell_type": "code",
   "execution_count": 14,
   "metadata": {
    "tags": []
   },
   "outputs": [
    {
     "data": {
      "text/html": [
       "<div>\n",
       "<style scoped>\n",
       "    .dataframe tbody tr th:only-of-type {\n",
       "        vertical-align: middle;\n",
       "    }\n",
       "\n",
       "    .dataframe tbody tr th {\n",
       "        vertical-align: top;\n",
       "    }\n",
       "\n",
       "    .dataframe thead th {\n",
       "        text-align: right;\n",
       "    }\n",
       "</style>\n",
       "<table border=\"1\" class=\"dataframe\">\n",
       "  <thead>\n",
       "    <tr style=\"text-align: right;\">\n",
       "      <th></th>\n",
       "      <th>spill_number</th>\n",
       "      <th>program_facility_name</th>\n",
       "      <th>street_1</th>\n",
       "      <th>street_2</th>\n",
       "      <th>locality</th>\n",
       "      <th>county</th>\n",
       "      <th>zip_code</th>\n",
       "      <th>swis_code</th>\n",
       "      <th>dec_region</th>\n",
       "      <th>spill_date</th>\n",
       "      <th>received_date</th>\n",
       "      <th>contributing_factor</th>\n",
       "      <th>waterbody</th>\n",
       "      <th>source</th>\n",
       "      <th>close_date</th>\n",
       "      <th>material_name</th>\n",
       "      <th>material_family</th>\n",
       "      <th>quantity</th>\n",
       "      <th>units</th>\n",
       "      <th>recovered</th>\n",
       "    </tr>\n",
       "  </thead>\n",
       "  <tbody>\n",
       "    <tr>\n",
       "      <th>220</th>\n",
       "      <td>2301892</td>\n",
       "      <td>*** TEST SPILL ***</td>\n",
       "      <td>*** TEST SPILL ***</td>\n",
       "      <td>NaN</td>\n",
       "      <td>*** TEST SPILL ***</td>\n",
       "      <td>Onondaga</td>\n",
       "      <td>00000</td>\n",
       "      <td>3415</td>\n",
       "      <td>7</td>\n",
       "      <td>2023-06-06</td>\n",
       "      <td>2023-06-06</td>\n",
       "      <td>Tank Test Failure</td>\n",
       "      <td>NaN</td>\n",
       "      <td>Unknown</td>\n",
       "      <td>07/12/2023</td>\n",
       "      <td>#2 fuel oil</td>\n",
       "      <td>Petroleum</td>\n",
       "      <td>0.0</td>\n",
       "      <td>Gallons</td>\n",
       "      <td>0.0</td>\n",
       "    </tr>\n",
       "    <tr>\n",
       "      <th>221</th>\n",
       "      <td>2301892</td>\n",
       "      <td>*** TEST SPILL ***</td>\n",
       "      <td>*** TEST SPILL ***</td>\n",
       "      <td>NaN</td>\n",
       "      <td>*** TEST SPILL ***</td>\n",
       "      <td>Onondaga</td>\n",
       "      <td>00000</td>\n",
       "      <td>3415</td>\n",
       "      <td>7</td>\n",
       "      <td>2023-06-06</td>\n",
       "      <td>2023-06-06</td>\n",
       "      <td>Tank Test Failure</td>\n",
       "      <td>NaN</td>\n",
       "      <td>Unknown</td>\n",
       "      <td>07/12/2023</td>\n",
       "      <td>used oil (heating, on-site consumption)</td>\n",
       "      <td>Petroleum</td>\n",
       "      <td>0.0</td>\n",
       "      <td>NaN</td>\n",
       "      <td>0.0</td>\n",
       "    </tr>\n",
       "    <tr>\n",
       "      <th>222</th>\n",
       "      <td>2301892</td>\n",
       "      <td>*** TEST SPILL ***</td>\n",
       "      <td>*** TEST SPILL ***</td>\n",
       "      <td>NaN</td>\n",
       "      <td>*** TEST SPILL ***</td>\n",
       "      <td>Onondaga</td>\n",
       "      <td>00000</td>\n",
       "      <td>3415</td>\n",
       "      <td>7</td>\n",
       "      <td>2023-06-06</td>\n",
       "      <td>2023-06-06</td>\n",
       "      <td>Tank Test Failure</td>\n",
       "      <td>NaN</td>\n",
       "      <td>Unknown</td>\n",
       "      <td>07/12/2023</td>\n",
       "      <td>#2 fuel oil (on-site consumption)</td>\n",
       "      <td>Petroleum</td>\n",
       "      <td>0.0</td>\n",
       "      <td>NaN</td>\n",
       "      <td>0.0</td>\n",
       "    </tr>\n",
       "    <tr>\n",
       "      <th>223</th>\n",
       "      <td>2301892</td>\n",
       "      <td>*** TEST SPILL ***</td>\n",
       "      <td>*** TEST SPILL ***</td>\n",
       "      <td>NaN</td>\n",
       "      <td>*** TEST SPILL ***</td>\n",
       "      <td>Onondaga</td>\n",
       "      <td>00000</td>\n",
       "      <td>3415</td>\n",
       "      <td>7</td>\n",
       "      <td>2023-06-06</td>\n",
       "      <td>2023-06-06</td>\n",
       "      <td>Tank Test Failure</td>\n",
       "      <td>NaN</td>\n",
       "      <td>Unknown</td>\n",
       "      <td>07/12/2023</td>\n",
       "      <td>Diesel (E-Gen)</td>\n",
       "      <td>Petroleum</td>\n",
       "      <td>0.0</td>\n",
       "      <td>NaN</td>\n",
       "      <td>0.0</td>\n",
       "    </tr>\n",
       "    <tr>\n",
       "      <th>225</th>\n",
       "      <td>2301892</td>\n",
       "      <td>*** TEST SPILL ***</td>\n",
       "      <td>*** TEST SPILL ***</td>\n",
       "      <td>NaN</td>\n",
       "      <td>*** TEST SPILL ***</td>\n",
       "      <td>Onondaga</td>\n",
       "      <td>00000</td>\n",
       "      <td>3415</td>\n",
       "      <td>7</td>\n",
       "      <td>2023-06-06</td>\n",
       "      <td>2023-06-06</td>\n",
       "      <td>Tank Test Failure</td>\n",
       "      <td>NaN</td>\n",
       "      <td>Unknown</td>\n",
       "      <td>07/12/2023</td>\n",
       "      <td>waste oil/used oil</td>\n",
       "      <td>Petroleum</td>\n",
       "      <td>0.0</td>\n",
       "      <td>NaN</td>\n",
       "      <td>0.0</td>\n",
       "    </tr>\n",
       "    <tr>\n",
       "      <th>...</th>\n",
       "      <td>...</td>\n",
       "      <td>...</td>\n",
       "      <td>...</td>\n",
       "      <td>...</td>\n",
       "      <td>...</td>\n",
       "      <td>...</td>\n",
       "      <td>...</td>\n",
       "      <td>...</td>\n",
       "      <td>...</td>\n",
       "      <td>...</td>\n",
       "      <td>...</td>\n",
       "      <td>...</td>\n",
       "      <td>...</td>\n",
       "      <td>...</td>\n",
       "      <td>...</td>\n",
       "      <td>...</td>\n",
       "      <td>...</td>\n",
       "      <td>...</td>\n",
       "      <td>...</td>\n",
       "      <td>...</td>\n",
       "    </tr>\n",
       "    <tr>\n",
       "      <th>541791</th>\n",
       "      <td>2208600</td>\n",
       "      <td>ZHANG RESIDENCE</td>\n",
       "      <td>11 ACORN LANE</td>\n",
       "      <td>NaN</td>\n",
       "      <td>STONY BROOK</td>\n",
       "      <td>Suffolk</td>\n",
       "      <td>NaN</td>\n",
       "      <td>5222</td>\n",
       "      <td>1</td>\n",
       "      <td>2023-01-22</td>\n",
       "      <td>2023-01-22</td>\n",
       "      <td>Equipment Failure</td>\n",
       "      <td>NaN</td>\n",
       "      <td>Private Dwelling</td>\n",
       "      <td>01/31/2023</td>\n",
       "      <td>#2 fuel oil</td>\n",
       "      <td>Petroleum</td>\n",
       "      <td>5.0</td>\n",
       "      <td>Gallons</td>\n",
       "      <td>0.0</td>\n",
       "    </tr>\n",
       "    <tr>\n",
       "      <th>541794</th>\n",
       "      <td>2303072</td>\n",
       "      <td>ZHANG RESIDENCE</td>\n",
       "      <td>93 CHERRY LANE</td>\n",
       "      <td>NaN</td>\n",
       "      <td>HICKSVILLE</td>\n",
       "      <td>Nassau</td>\n",
       "      <td>NaN</td>\n",
       "      <td>3024</td>\n",
       "      <td>1</td>\n",
       "      <td>2023-07-14</td>\n",
       "      <td>2023-07-14</td>\n",
       "      <td>Equipment Failure</td>\n",
       "      <td>NaN</td>\n",
       "      <td>Private Dwelling</td>\n",
       "      <td>09/18/2023</td>\n",
       "      <td>#2 fuel oil</td>\n",
       "      <td>Petroleum</td>\n",
       "      <td>0.0</td>\n",
       "      <td>NaN</td>\n",
       "      <td>0.0</td>\n",
       "    </tr>\n",
       "    <tr>\n",
       "      <th>541904</th>\n",
       "      <td>2208304</td>\n",
       "      <td>ZIMMERMAN - UST</td>\n",
       "      <td>19 MOUNTAIN AVENUE</td>\n",
       "      <td>NaN</td>\n",
       "      <td>LARCHMONT</td>\n",
       "      <td>Westchester</td>\n",
       "      <td>NaN</td>\n",
       "      <td>6032</td>\n",
       "      <td>3</td>\n",
       "      <td>2023-01-10</td>\n",
       "      <td>2023-01-10</td>\n",
       "      <td>Equipment Failure</td>\n",
       "      <td>NaN</td>\n",
       "      <td>Private Dwelling</td>\n",
       "      <td>NaN</td>\n",
       "      <td>#2 fuel oil</td>\n",
       "      <td>Petroleum</td>\n",
       "      <td>0.0</td>\n",
       "      <td>NaN</td>\n",
       "      <td>0.0</td>\n",
       "    </tr>\n",
       "    <tr>\n",
       "      <th>542187</th>\n",
       "      <td>2301301</td>\n",
       "      <td>ZULTOWSKY - UST</td>\n",
       "      <td>514 PELHAM MANOR RD</td>\n",
       "      <td>NaN</td>\n",
       "      <td>PELHAM</td>\n",
       "      <td>Westchester</td>\n",
       "      <td>NaN</td>\n",
       "      <td>6044</td>\n",
       "      <td>3</td>\n",
       "      <td>2023-05-16</td>\n",
       "      <td>2023-05-16</td>\n",
       "      <td>Equipment Failure</td>\n",
       "      <td>NaN</td>\n",
       "      <td>Private Dwelling</td>\n",
       "      <td>07/11/2023</td>\n",
       "      <td>#2 fuel oil</td>\n",
       "      <td>Petroleum</td>\n",
       "      <td>0.0</td>\n",
       "      <td>NaN</td>\n",
       "      <td>0.0</td>\n",
       "    </tr>\n",
       "    <tr>\n",
       "      <th>542270</th>\n",
       "      <td>2304668</td>\n",
       "      <td>ZZ PETROLEUM</td>\n",
       "      <td>2429 RT9</td>\n",
       "      <td>NaN</td>\n",
       "      <td>MALTA</td>\n",
       "      <td>Saratoga</td>\n",
       "      <td>NaN</td>\n",
       "      <td>4640</td>\n",
       "      <td>5</td>\n",
       "      <td>2023-08-30</td>\n",
       "      <td>2023-08-30</td>\n",
       "      <td>Equipment Failure</td>\n",
       "      <td>NaN</td>\n",
       "      <td>Gasoline Station or other PBS Facility</td>\n",
       "      <td>NaN</td>\n",
       "      <td>gasoline</td>\n",
       "      <td>Petroleum</td>\n",
       "      <td>0.0</td>\n",
       "      <td>NaN</td>\n",
       "      <td>0.0</td>\n",
       "    </tr>\n",
       "  </tbody>\n",
       "</table>\n",
       "<p>7153 rows × 20 columns</p>\n",
       "</div>"
      ],
      "text/plain": [
       "        spill_number program_facility_name             street_1 street_2  \\\n",
       "220          2301892    *** TEST SPILL ***   *** TEST SPILL ***      NaN   \n",
       "221          2301892    *** TEST SPILL ***   *** TEST SPILL ***      NaN   \n",
       "222          2301892    *** TEST SPILL ***   *** TEST SPILL ***      NaN   \n",
       "223          2301892    *** TEST SPILL ***   *** TEST SPILL ***      NaN   \n",
       "225          2301892    *** TEST SPILL ***   *** TEST SPILL ***      NaN   \n",
       "...              ...                   ...                  ...      ...   \n",
       "541791       2208600       ZHANG RESIDENCE        11 ACORN LANE      NaN   \n",
       "541794       2303072       ZHANG RESIDENCE       93 CHERRY LANE      NaN   \n",
       "541904       2208304       ZIMMERMAN - UST   19 MOUNTAIN AVENUE      NaN   \n",
       "542187       2301301       ZULTOWSKY - UST  514 PELHAM MANOR RD      NaN   \n",
       "542270       2304668          ZZ PETROLEUM             2429 RT9      NaN   \n",
       "\n",
       "                  locality       county zip_code  swis_code  dec_region  \\\n",
       "220     *** TEST SPILL ***     Onondaga    00000       3415           7   \n",
       "221     *** TEST SPILL ***     Onondaga    00000       3415           7   \n",
       "222     *** TEST SPILL ***     Onondaga    00000       3415           7   \n",
       "223     *** TEST SPILL ***     Onondaga    00000       3415           7   \n",
       "225     *** TEST SPILL ***     Onondaga    00000       3415           7   \n",
       "...                    ...          ...      ...        ...         ...   \n",
       "541791         STONY BROOK      Suffolk      NaN       5222           1   \n",
       "541794          HICKSVILLE       Nassau      NaN       3024           1   \n",
       "541904           LARCHMONT  Westchester      NaN       6032           3   \n",
       "542187              PELHAM  Westchester      NaN       6044           3   \n",
       "542270               MALTA     Saratoga      NaN       4640           5   \n",
       "\n",
       "       spill_date received_date contributing_factor waterbody  \\\n",
       "220    2023-06-06    2023-06-06   Tank Test Failure       NaN   \n",
       "221    2023-06-06    2023-06-06   Tank Test Failure       NaN   \n",
       "222    2023-06-06    2023-06-06   Tank Test Failure       NaN   \n",
       "223    2023-06-06    2023-06-06   Tank Test Failure       NaN   \n",
       "225    2023-06-06    2023-06-06   Tank Test Failure       NaN   \n",
       "...           ...           ...                 ...       ...   \n",
       "541791 2023-01-22    2023-01-22   Equipment Failure       NaN   \n",
       "541794 2023-07-14    2023-07-14   Equipment Failure       NaN   \n",
       "541904 2023-01-10    2023-01-10   Equipment Failure       NaN   \n",
       "542187 2023-05-16    2023-05-16   Equipment Failure       NaN   \n",
       "542270 2023-08-30    2023-08-30   Equipment Failure       NaN   \n",
       "\n",
       "                                        source  close_date  \\\n",
       "220                                    Unknown  07/12/2023   \n",
       "221                                    Unknown  07/12/2023   \n",
       "222                                    Unknown  07/12/2023   \n",
       "223                                    Unknown  07/12/2023   \n",
       "225                                    Unknown  07/12/2023   \n",
       "...                                        ...         ...   \n",
       "541791                        Private Dwelling  01/31/2023   \n",
       "541794                        Private Dwelling  09/18/2023   \n",
       "541904                        Private Dwelling         NaN   \n",
       "542187                        Private Dwelling  07/11/2023   \n",
       "542270  Gasoline Station or other PBS Facility         NaN   \n",
       "\n",
       "                                  material_name material_family  quantity  \\\n",
       "220                                 #2 fuel oil       Petroleum       0.0   \n",
       "221     used oil (heating, on-site consumption)       Petroleum       0.0   \n",
       "222           #2 fuel oil (on-site consumption)       Petroleum       0.0   \n",
       "223                              Diesel (E-Gen)       Petroleum       0.0   \n",
       "225                          waste oil/used oil       Petroleum       0.0   \n",
       "...                                         ...             ...       ...   \n",
       "541791                              #2 fuel oil       Petroleum       5.0   \n",
       "541794                              #2 fuel oil       Petroleum       0.0   \n",
       "541904                              #2 fuel oil       Petroleum       0.0   \n",
       "542187                              #2 fuel oil       Petroleum       0.0   \n",
       "542270                                 gasoline       Petroleum       0.0   \n",
       "\n",
       "          units  recovered  \n",
       "220     Gallons        0.0  \n",
       "221         NaN        0.0  \n",
       "222         NaN        0.0  \n",
       "223         NaN        0.0  \n",
       "225         NaN        0.0  \n",
       "...         ...        ...  \n",
       "541791  Gallons        0.0  \n",
       "541794      NaN        0.0  \n",
       "541904      NaN        0.0  \n",
       "542187      NaN        0.0  \n",
       "542270      NaN        0.0  \n",
       "\n",
       "[7153 rows x 20 columns]"
      ]
     },
     "execution_count": 14,
     "metadata": {},
     "output_type": "execute_result"
    }
   ],
   "source": [
    "# previewing the data\n",
    "petr_23"
   ]
  },
  {
   "cell_type": "code",
   "execution_count": 15,
   "metadata": {
    "tags": []
   },
   "outputs": [
    {
     "data": {
      "text/html": [
       "<div>\n",
       "<style scoped>\n",
       "    .dataframe tbody tr th:only-of-type {\n",
       "        vertical-align: middle;\n",
       "    }\n",
       "\n",
       "    .dataframe tbody tr th {\n",
       "        vertical-align: top;\n",
       "    }\n",
       "\n",
       "    .dataframe thead th {\n",
       "        text-align: right;\n",
       "    }\n",
       "</style>\n",
       "<table border=\"1\" class=\"dataframe\">\n",
       "  <thead>\n",
       "    <tr style=\"text-align: right;\">\n",
       "      <th></th>\n",
       "      <th>county</th>\n",
       "      <th>n_spills</th>\n",
       "    </tr>\n",
       "  </thead>\n",
       "  <tbody>\n",
       "    <tr>\n",
       "      <th>0</th>\n",
       "      <td>Albany</td>\n",
       "      <td>204</td>\n",
       "    </tr>\n",
       "    <tr>\n",
       "      <th>1</th>\n",
       "      <td>Allegany</td>\n",
       "      <td>30</td>\n",
       "    </tr>\n",
       "    <tr>\n",
       "      <th>2</th>\n",
       "      <td>Bronx</td>\n",
       "      <td>143</td>\n",
       "    </tr>\n",
       "    <tr>\n",
       "      <th>3</th>\n",
       "      <td>Broome</td>\n",
       "      <td>74</td>\n",
       "    </tr>\n",
       "    <tr>\n",
       "      <th>4</th>\n",
       "      <td>Cattaraugus</td>\n",
       "      <td>46</td>\n",
       "    </tr>\n",
       "    <tr>\n",
       "      <th>...</th>\n",
       "      <td>...</td>\n",
       "      <td>...</td>\n",
       "    </tr>\n",
       "    <tr>\n",
       "      <th>59</th>\n",
       "      <td>Washington</td>\n",
       "      <td>96</td>\n",
       "    </tr>\n",
       "    <tr>\n",
       "      <th>60</th>\n",
       "      <td>Wayne</td>\n",
       "      <td>38</td>\n",
       "    </tr>\n",
       "    <tr>\n",
       "      <th>61</th>\n",
       "      <td>Westchester</td>\n",
       "      <td>733</td>\n",
       "    </tr>\n",
       "    <tr>\n",
       "      <th>62</th>\n",
       "      <td>Wyoming</td>\n",
       "      <td>24</td>\n",
       "    </tr>\n",
       "    <tr>\n",
       "      <th>63</th>\n",
       "      <td>Yates</td>\n",
       "      <td>6</td>\n",
       "    </tr>\n",
       "  </tbody>\n",
       "</table>\n",
       "<p>64 rows × 2 columns</p>\n",
       "</div>"
      ],
      "text/plain": [
       "         county  n_spills\n",
       "0        Albany       204\n",
       "1      Allegany        30\n",
       "2         Bronx       143\n",
       "3        Broome        74\n",
       "4   Cattaraugus        46\n",
       "..          ...       ...\n",
       "59   Washington        96\n",
       "60        Wayne        38\n",
       "61  Westchester       733\n",
       "62      Wyoming        24\n",
       "63        Yates         6\n",
       "\n",
       "[64 rows x 2 columns]"
      ]
     },
     "execution_count": 15,
     "metadata": {},
     "output_type": "execute_result"
    }
   ],
   "source": [
    "# keeping county and spill_number columns\n",
    "spills_per_county = petr_23[['county','spill_number']]\n",
    "\n",
    "#grouping by the county names to see how many spills occurred in each county, \n",
    "# using count to count the total number of rows(occurrences) petroleum happened\n",
    "spills_per_county = spills_per_county.groupby('county').count()\n",
    "\n",
    "#converted back to dataframe\n",
    "spills_per_county = pd.DataFrame(spills_per_county)\n",
    "\n",
    "#renamed the column spill number to n_spills\n",
    "spills_per_county = spills_per_county.rename(columns = {'spill_number':'n_spills'})\n",
    "\n",
    "# reset the index so it can start from 0 \n",
    "spills_per_county = spills_per_county.reset_index()\n",
    "spills_per_county"
   ]
  },
  {
   "cell_type": "markdown",
   "metadata": {},
   "source": [
    "## Prepare counties data\n",
    "\n",
    "This section refers to the `counties` geodataframe. \n",
    "Check the outputs carefully, they will give you context about the next exercises.\n",
    "\n",
    "### Exploration\n",
    "\n",
    "In the next cells:\n",
    "\n",
    "1. Check the geo-dataframe's head\n",
    "2. Simplify column names as needed\n",
    "3. Check the data types of the columns\n",
    "4. Check the geo-dataframe's CRS\n",
    "5. Plot the geo-dataframe.\n",
    "\n",
    "You can add any other cells of preliminary data exploration."
   ]
  },
  {
   "cell_type": "code",
   "execution_count": 16,
   "metadata": {
    "tags": []
   },
   "outputs": [
    {
     "data": {
      "text/html": [
       "<div>\n",
       "<style scoped>\n",
       "    .dataframe tbody tr th:only-of-type {\n",
       "        vertical-align: middle;\n",
       "    }\n",
       "\n",
       "    .dataframe tbody tr th {\n",
       "        vertical-align: top;\n",
       "    }\n",
       "\n",
       "    .dataframe thead th {\n",
       "        text-align: right;\n",
       "    }\n",
       "</style>\n",
       "<table border=\"1\" class=\"dataframe\">\n",
       "  <thead>\n",
       "    <tr style=\"text-align: right;\">\n",
       "      <th></th>\n",
       "      <th>STATEFP</th>\n",
       "      <th>COUNTYFP</th>\n",
       "      <th>COUNTYNS</th>\n",
       "      <th>GEOID</th>\n",
       "      <th>NAME</th>\n",
       "      <th>NAMELSAD</th>\n",
       "      <th>LSAD</th>\n",
       "      <th>CLASSFP</th>\n",
       "      <th>MTFCC</th>\n",
       "      <th>CSAFP</th>\n",
       "      <th>CBSAFP</th>\n",
       "      <th>METDIVFP</th>\n",
       "      <th>FUNCSTAT</th>\n",
       "      <th>ALAND</th>\n",
       "      <th>AWATER</th>\n",
       "      <th>INTPTLAT</th>\n",
       "      <th>INTPTLON</th>\n",
       "      <th>geometry</th>\n",
       "    </tr>\n",
       "  </thead>\n",
       "  <tbody>\n",
       "    <tr>\n",
       "      <th>0</th>\n",
       "      <td>31</td>\n",
       "      <td>039</td>\n",
       "      <td>00835841</td>\n",
       "      <td>31039</td>\n",
       "      <td>Cuming</td>\n",
       "      <td>Cuming County</td>\n",
       "      <td>06</td>\n",
       "      <td>H1</td>\n",
       "      <td>G4020</td>\n",
       "      <td>None</td>\n",
       "      <td>None</td>\n",
       "      <td>None</td>\n",
       "      <td>A</td>\n",
       "      <td>1477644346</td>\n",
       "      <td>10691216</td>\n",
       "      <td>+41.9158651</td>\n",
       "      <td>-096.7885168</td>\n",
       "      <td>POLYGON ((-96.55515 41.91587, -96.55515 41.914...</td>\n",
       "    </tr>\n",
       "    <tr>\n",
       "      <th>1</th>\n",
       "      <td>53</td>\n",
       "      <td>069</td>\n",
       "      <td>01513275</td>\n",
       "      <td>53069</td>\n",
       "      <td>Wahkiakum</td>\n",
       "      <td>Wahkiakum County</td>\n",
       "      <td>06</td>\n",
       "      <td>H1</td>\n",
       "      <td>G4020</td>\n",
       "      <td>None</td>\n",
       "      <td>None</td>\n",
       "      <td>None</td>\n",
       "      <td>A</td>\n",
       "      <td>680980770</td>\n",
       "      <td>61564427</td>\n",
       "      <td>+46.2946377</td>\n",
       "      <td>-123.4244583</td>\n",
       "      <td>POLYGON ((-123.72755 46.26449, -123.72755 46.2...</td>\n",
       "    </tr>\n",
       "    <tr>\n",
       "      <th>2</th>\n",
       "      <td>35</td>\n",
       "      <td>011</td>\n",
       "      <td>00933054</td>\n",
       "      <td>35011</td>\n",
       "      <td>De Baca</td>\n",
       "      <td>De Baca County</td>\n",
       "      <td>06</td>\n",
       "      <td>H1</td>\n",
       "      <td>G4020</td>\n",
       "      <td>None</td>\n",
       "      <td>None</td>\n",
       "      <td>None</td>\n",
       "      <td>A</td>\n",
       "      <td>6016818946</td>\n",
       "      <td>29090018</td>\n",
       "      <td>+34.3592729</td>\n",
       "      <td>-104.3686961</td>\n",
       "      <td>POLYGON ((-104.89337 34.08894, -104.89337 34.0...</td>\n",
       "    </tr>\n",
       "    <tr>\n",
       "      <th>3</th>\n",
       "      <td>31</td>\n",
       "      <td>109</td>\n",
       "      <td>00835876</td>\n",
       "      <td>31109</td>\n",
       "      <td>Lancaster</td>\n",
       "      <td>Lancaster County</td>\n",
       "      <td>06</td>\n",
       "      <td>H1</td>\n",
       "      <td>G4020</td>\n",
       "      <td>None</td>\n",
       "      <td>None</td>\n",
       "      <td>None</td>\n",
       "      <td>A</td>\n",
       "      <td>2169272978</td>\n",
       "      <td>22847034</td>\n",
       "      <td>+40.7835474</td>\n",
       "      <td>-096.6886584</td>\n",
       "      <td>POLYGON ((-96.68493 40.52330, -96.69219 40.523...</td>\n",
       "    </tr>\n",
       "    <tr>\n",
       "      <th>4</th>\n",
       "      <td>31</td>\n",
       "      <td>129</td>\n",
       "      <td>00835886</td>\n",
       "      <td>31129</td>\n",
       "      <td>Nuckolls</td>\n",
       "      <td>Nuckolls County</td>\n",
       "      <td>06</td>\n",
       "      <td>H1</td>\n",
       "      <td>G4020</td>\n",
       "      <td>None</td>\n",
       "      <td>None</td>\n",
       "      <td>None</td>\n",
       "      <td>A</td>\n",
       "      <td>1489645185</td>\n",
       "      <td>1718484</td>\n",
       "      <td>+40.1764918</td>\n",
       "      <td>-098.0468422</td>\n",
       "      <td>POLYGON ((-98.27370 40.11840, -98.27374 40.122...</td>\n",
       "    </tr>\n",
       "    <tr>\n",
       "      <th>5</th>\n",
       "      <td>72</td>\n",
       "      <td>085</td>\n",
       "      <td>01804523</td>\n",
       "      <td>72085</td>\n",
       "      <td>Las Piedras</td>\n",
       "      <td>Las Piedras Municipio</td>\n",
       "      <td>13</td>\n",
       "      <td>H1</td>\n",
       "      <td>G4020</td>\n",
       "      <td>None</td>\n",
       "      <td>None</td>\n",
       "      <td>None</td>\n",
       "      <td>A</td>\n",
       "      <td>87748418</td>\n",
       "      <td>32509</td>\n",
       "      <td>+18.1871483</td>\n",
       "      <td>-065.8711890</td>\n",
       "      <td>POLYGON ((-65.85703 18.16468, -65.85733 18.164...</td>\n",
       "    </tr>\n",
       "    <tr>\n",
       "      <th>6</th>\n",
       "      <td>46</td>\n",
       "      <td>099</td>\n",
       "      <td>01265772</td>\n",
       "      <td>46099</td>\n",
       "      <td>Minnehaha</td>\n",
       "      <td>Minnehaha County</td>\n",
       "      <td>06</td>\n",
       "      <td>H1</td>\n",
       "      <td>G4020</td>\n",
       "      <td>None</td>\n",
       "      <td>None</td>\n",
       "      <td>None</td>\n",
       "      <td>A</td>\n",
       "      <td>2089707824</td>\n",
       "      <td>18182409</td>\n",
       "      <td>+43.6674723</td>\n",
       "      <td>-096.7957261</td>\n",
       "      <td>POLYGON ((-96.60910 43.50043, -96.61070 43.500...</td>\n",
       "    </tr>\n",
       "  </tbody>\n",
       "</table>\n",
       "</div>"
      ],
      "text/plain": [
       "  STATEFP COUNTYFP  COUNTYNS  GEOID         NAME               NAMELSAD LSAD  \\\n",
       "0      31      039  00835841  31039       Cuming          Cuming County   06   \n",
       "1      53      069  01513275  53069    Wahkiakum       Wahkiakum County   06   \n",
       "2      35      011  00933054  35011      De Baca         De Baca County   06   \n",
       "3      31      109  00835876  31109    Lancaster       Lancaster County   06   \n",
       "4      31      129  00835886  31129     Nuckolls        Nuckolls County   06   \n",
       "5      72      085  01804523  72085  Las Piedras  Las Piedras Municipio   13   \n",
       "6      46      099  01265772  46099    Minnehaha       Minnehaha County   06   \n",
       "\n",
       "  CLASSFP  MTFCC CSAFP CBSAFP METDIVFP FUNCSTAT       ALAND    AWATER  \\\n",
       "0      H1  G4020  None   None     None        A  1477644346  10691216   \n",
       "1      H1  G4020  None   None     None        A   680980770  61564427   \n",
       "2      H1  G4020  None   None     None        A  6016818946  29090018   \n",
       "3      H1  G4020  None   None     None        A  2169272978  22847034   \n",
       "4      H1  G4020  None   None     None        A  1489645185   1718484   \n",
       "5      H1  G4020  None   None     None        A    87748418     32509   \n",
       "6      H1  G4020  None   None     None        A  2089707824  18182409   \n",
       "\n",
       "      INTPTLAT      INTPTLON  \\\n",
       "0  +41.9158651  -096.7885168   \n",
       "1  +46.2946377  -123.4244583   \n",
       "2  +34.3592729  -104.3686961   \n",
       "3  +40.7835474  -096.6886584   \n",
       "4  +40.1764918  -098.0468422   \n",
       "5  +18.1871483  -065.8711890   \n",
       "6  +43.6674723  -096.7957261   \n",
       "\n",
       "                                            geometry  \n",
       "0  POLYGON ((-96.55515 41.91587, -96.55515 41.914...  \n",
       "1  POLYGON ((-123.72755 46.26449, -123.72755 46.2...  \n",
       "2  POLYGON ((-104.89337 34.08894, -104.89337 34.0...  \n",
       "3  POLYGON ((-96.68493 40.52330, -96.69219 40.523...  \n",
       "4  POLYGON ((-98.27370 40.11840, -98.27374 40.122...  \n",
       "5  POLYGON ((-65.85703 18.16468, -65.85733 18.164...  \n",
       "6  POLYGON ((-96.60910 43.50043, -96.61070 43.500...  "
      ]
     },
     "execution_count": 16,
     "metadata": {},
     "output_type": "execute_result"
    }
   ],
   "source": [
    "# 1. previewing the first seven rows \n",
    "counties.head(7)"
   ]
  },
  {
   "cell_type": "code",
   "execution_count": 17,
   "metadata": {
    "tags": []
   },
   "outputs": [
    {
     "data": {
      "text/html": [
       "<div>\n",
       "<style scoped>\n",
       "    .dataframe tbody tr th:only-of-type {\n",
       "        vertical-align: middle;\n",
       "    }\n",
       "\n",
       "    .dataframe tbody tr th {\n",
       "        vertical-align: top;\n",
       "    }\n",
       "\n",
       "    .dataframe thead th {\n",
       "        text-align: right;\n",
       "    }\n",
       "</style>\n",
       "<table border=\"1\" class=\"dataframe\">\n",
       "  <thead>\n",
       "    <tr style=\"text-align: right;\">\n",
       "      <th></th>\n",
       "      <th>statefp</th>\n",
       "      <th>countyfp</th>\n",
       "      <th>countyns</th>\n",
       "      <th>geoid</th>\n",
       "      <th>name</th>\n",
       "      <th>namelsad</th>\n",
       "      <th>lsad</th>\n",
       "      <th>classfp</th>\n",
       "      <th>mtfcc</th>\n",
       "      <th>csafp</th>\n",
       "      <th>cbsafp</th>\n",
       "      <th>metdivfp</th>\n",
       "      <th>funcstat</th>\n",
       "      <th>aland</th>\n",
       "      <th>awater</th>\n",
       "      <th>intptlat</th>\n",
       "      <th>intptlon</th>\n",
       "      <th>geometry</th>\n",
       "    </tr>\n",
       "  </thead>\n",
       "  <tbody>\n",
       "    <tr>\n",
       "      <th>0</th>\n",
       "      <td>31</td>\n",
       "      <td>039</td>\n",
       "      <td>00835841</td>\n",
       "      <td>31039</td>\n",
       "      <td>Cuming</td>\n",
       "      <td>Cuming County</td>\n",
       "      <td>06</td>\n",
       "      <td>H1</td>\n",
       "      <td>G4020</td>\n",
       "      <td>None</td>\n",
       "      <td>None</td>\n",
       "      <td>None</td>\n",
       "      <td>A</td>\n",
       "      <td>1477644346</td>\n",
       "      <td>10691216</td>\n",
       "      <td>+41.9158651</td>\n",
       "      <td>-096.7885168</td>\n",
       "      <td>POLYGON ((-96.55515 41.91587, -96.55515 41.914...</td>\n",
       "    </tr>\n",
       "    <tr>\n",
       "      <th>1</th>\n",
       "      <td>53</td>\n",
       "      <td>069</td>\n",
       "      <td>01513275</td>\n",
       "      <td>53069</td>\n",
       "      <td>Wahkiakum</td>\n",
       "      <td>Wahkiakum County</td>\n",
       "      <td>06</td>\n",
       "      <td>H1</td>\n",
       "      <td>G4020</td>\n",
       "      <td>None</td>\n",
       "      <td>None</td>\n",
       "      <td>None</td>\n",
       "      <td>A</td>\n",
       "      <td>680980770</td>\n",
       "      <td>61564427</td>\n",
       "      <td>+46.2946377</td>\n",
       "      <td>-123.4244583</td>\n",
       "      <td>POLYGON ((-123.72755 46.26449, -123.72755 46.2...</td>\n",
       "    </tr>\n",
       "    <tr>\n",
       "      <th>2</th>\n",
       "      <td>35</td>\n",
       "      <td>011</td>\n",
       "      <td>00933054</td>\n",
       "      <td>35011</td>\n",
       "      <td>De Baca</td>\n",
       "      <td>De Baca County</td>\n",
       "      <td>06</td>\n",
       "      <td>H1</td>\n",
       "      <td>G4020</td>\n",
       "      <td>None</td>\n",
       "      <td>None</td>\n",
       "      <td>None</td>\n",
       "      <td>A</td>\n",
       "      <td>6016818946</td>\n",
       "      <td>29090018</td>\n",
       "      <td>+34.3592729</td>\n",
       "      <td>-104.3686961</td>\n",
       "      <td>POLYGON ((-104.89337 34.08894, -104.89337 34.0...</td>\n",
       "    </tr>\n",
       "    <tr>\n",
       "      <th>3</th>\n",
       "      <td>31</td>\n",
       "      <td>109</td>\n",
       "      <td>00835876</td>\n",
       "      <td>31109</td>\n",
       "      <td>Lancaster</td>\n",
       "      <td>Lancaster County</td>\n",
       "      <td>06</td>\n",
       "      <td>H1</td>\n",
       "      <td>G4020</td>\n",
       "      <td>None</td>\n",
       "      <td>None</td>\n",
       "      <td>None</td>\n",
       "      <td>A</td>\n",
       "      <td>2169272978</td>\n",
       "      <td>22847034</td>\n",
       "      <td>+40.7835474</td>\n",
       "      <td>-096.6886584</td>\n",
       "      <td>POLYGON ((-96.68493 40.52330, -96.69219 40.523...</td>\n",
       "    </tr>\n",
       "    <tr>\n",
       "      <th>4</th>\n",
       "      <td>31</td>\n",
       "      <td>129</td>\n",
       "      <td>00835886</td>\n",
       "      <td>31129</td>\n",
       "      <td>Nuckolls</td>\n",
       "      <td>Nuckolls County</td>\n",
       "      <td>06</td>\n",
       "      <td>H1</td>\n",
       "      <td>G4020</td>\n",
       "      <td>None</td>\n",
       "      <td>None</td>\n",
       "      <td>None</td>\n",
       "      <td>A</td>\n",
       "      <td>1489645185</td>\n",
       "      <td>1718484</td>\n",
       "      <td>+40.1764918</td>\n",
       "      <td>-098.0468422</td>\n",
       "      <td>POLYGON ((-98.27370 40.11840, -98.27374 40.122...</td>\n",
       "    </tr>\n",
       "    <tr>\n",
       "      <th>...</th>\n",
       "      <td>...</td>\n",
       "      <td>...</td>\n",
       "      <td>...</td>\n",
       "      <td>...</td>\n",
       "      <td>...</td>\n",
       "      <td>...</td>\n",
       "      <td>...</td>\n",
       "      <td>...</td>\n",
       "      <td>...</td>\n",
       "      <td>...</td>\n",
       "      <td>...</td>\n",
       "      <td>...</td>\n",
       "      <td>...</td>\n",
       "      <td>...</td>\n",
       "      <td>...</td>\n",
       "      <td>...</td>\n",
       "      <td>...</td>\n",
       "      <td>...</td>\n",
       "    </tr>\n",
       "    <tr>\n",
       "      <th>3230</th>\n",
       "      <td>13</td>\n",
       "      <td>123</td>\n",
       "      <td>00351260</td>\n",
       "      <td>13123</td>\n",
       "      <td>Gilmer</td>\n",
       "      <td>Gilmer County</td>\n",
       "      <td>06</td>\n",
       "      <td>H1</td>\n",
       "      <td>G4020</td>\n",
       "      <td>None</td>\n",
       "      <td>None</td>\n",
       "      <td>None</td>\n",
       "      <td>A</td>\n",
       "      <td>1103893380</td>\n",
       "      <td>12276629</td>\n",
       "      <td>+34.6905232</td>\n",
       "      <td>-084.4548113</td>\n",
       "      <td>POLYGON ((-84.30237 34.57832, -84.30329 34.577...</td>\n",
       "    </tr>\n",
       "    <tr>\n",
       "      <th>3231</th>\n",
       "      <td>27</td>\n",
       "      <td>135</td>\n",
       "      <td>00659513</td>\n",
       "      <td>27135</td>\n",
       "      <td>Roseau</td>\n",
       "      <td>Roseau County</td>\n",
       "      <td>06</td>\n",
       "      <td>H1</td>\n",
       "      <td>G4020</td>\n",
       "      <td>None</td>\n",
       "      <td>None</td>\n",
       "      <td>None</td>\n",
       "      <td>A</td>\n",
       "      <td>4329793477</td>\n",
       "      <td>16913514</td>\n",
       "      <td>+48.7610683</td>\n",
       "      <td>-095.8215042</td>\n",
       "      <td>POLYGON ((-95.25857 48.88666, -95.25707 48.885...</td>\n",
       "    </tr>\n",
       "    <tr>\n",
       "      <th>3232</th>\n",
       "      <td>28</td>\n",
       "      <td>089</td>\n",
       "      <td>00695768</td>\n",
       "      <td>28089</td>\n",
       "      <td>Madison</td>\n",
       "      <td>Madison County</td>\n",
       "      <td>06</td>\n",
       "      <td>H1</td>\n",
       "      <td>G4020</td>\n",
       "      <td>None</td>\n",
       "      <td>None</td>\n",
       "      <td>None</td>\n",
       "      <td>A</td>\n",
       "      <td>1850178077</td>\n",
       "      <td>71698127</td>\n",
       "      <td>+32.6343703</td>\n",
       "      <td>-090.0341603</td>\n",
       "      <td>POLYGON ((-90.14883 32.40026, -90.14890 32.400...</td>\n",
       "    </tr>\n",
       "    <tr>\n",
       "      <th>3233</th>\n",
       "      <td>48</td>\n",
       "      <td>227</td>\n",
       "      <td>01383899</td>\n",
       "      <td>48227</td>\n",
       "      <td>Howard</td>\n",
       "      <td>Howard County</td>\n",
       "      <td>06</td>\n",
       "      <td>H1</td>\n",
       "      <td>G4020</td>\n",
       "      <td>None</td>\n",
       "      <td>None</td>\n",
       "      <td>None</td>\n",
       "      <td>A</td>\n",
       "      <td>2333039143</td>\n",
       "      <td>8841781</td>\n",
       "      <td>+32.3034298</td>\n",
       "      <td>-101.4387208</td>\n",
       "      <td>POLYGON ((-101.18138 32.21252, -101.18138 32.2...</td>\n",
       "    </tr>\n",
       "    <tr>\n",
       "      <th>3234</th>\n",
       "      <td>54</td>\n",
       "      <td>099</td>\n",
       "      <td>01550056</td>\n",
       "      <td>54099</td>\n",
       "      <td>Wayne</td>\n",
       "      <td>Wayne County</td>\n",
       "      <td>06</td>\n",
       "      <td>H1</td>\n",
       "      <td>G4020</td>\n",
       "      <td>None</td>\n",
       "      <td>None</td>\n",
       "      <td>None</td>\n",
       "      <td>A</td>\n",
       "      <td>1310547891</td>\n",
       "      <td>15816947</td>\n",
       "      <td>+38.1436416</td>\n",
       "      <td>-082.4226659</td>\n",
       "      <td>POLYGON ((-82.30872 38.28106, -82.30874 38.280...</td>\n",
       "    </tr>\n",
       "  </tbody>\n",
       "</table>\n",
       "<p>3235 rows × 18 columns</p>\n",
       "</div>"
      ],
      "text/plain": [
       "     statefp countyfp  countyns  geoid       name          namelsad lsad  \\\n",
       "0         31      039  00835841  31039     Cuming     Cuming County   06   \n",
       "1         53      069  01513275  53069  Wahkiakum  Wahkiakum County   06   \n",
       "2         35      011  00933054  35011    De Baca    De Baca County   06   \n",
       "3         31      109  00835876  31109  Lancaster  Lancaster County   06   \n",
       "4         31      129  00835886  31129   Nuckolls   Nuckolls County   06   \n",
       "...      ...      ...       ...    ...        ...               ...  ...   \n",
       "3230      13      123  00351260  13123     Gilmer     Gilmer County   06   \n",
       "3231      27      135  00659513  27135     Roseau     Roseau County   06   \n",
       "3232      28      089  00695768  28089    Madison    Madison County   06   \n",
       "3233      48      227  01383899  48227     Howard     Howard County   06   \n",
       "3234      54      099  01550056  54099      Wayne      Wayne County   06   \n",
       "\n",
       "     classfp  mtfcc csafp cbsafp metdivfp funcstat       aland    awater  \\\n",
       "0         H1  G4020  None   None     None        A  1477644346  10691216   \n",
       "1         H1  G4020  None   None     None        A   680980770  61564427   \n",
       "2         H1  G4020  None   None     None        A  6016818946  29090018   \n",
       "3         H1  G4020  None   None     None        A  2169272978  22847034   \n",
       "4         H1  G4020  None   None     None        A  1489645185   1718484   \n",
       "...      ...    ...   ...    ...      ...      ...         ...       ...   \n",
       "3230      H1  G4020  None   None     None        A  1103893380  12276629   \n",
       "3231      H1  G4020  None   None     None        A  4329793477  16913514   \n",
       "3232      H1  G4020  None   None     None        A  1850178077  71698127   \n",
       "3233      H1  G4020  None   None     None        A  2333039143   8841781   \n",
       "3234      H1  G4020  None   None     None        A  1310547891  15816947   \n",
       "\n",
       "         intptlat      intptlon  \\\n",
       "0     +41.9158651  -096.7885168   \n",
       "1     +46.2946377  -123.4244583   \n",
       "2     +34.3592729  -104.3686961   \n",
       "3     +40.7835474  -096.6886584   \n",
       "4     +40.1764918  -098.0468422   \n",
       "...           ...           ...   \n",
       "3230  +34.6905232  -084.4548113   \n",
       "3231  +48.7610683  -095.8215042   \n",
       "3232  +32.6343703  -090.0341603   \n",
       "3233  +32.3034298  -101.4387208   \n",
       "3234  +38.1436416  -082.4226659   \n",
       "\n",
       "                                               geometry  \n",
       "0     POLYGON ((-96.55515 41.91587, -96.55515 41.914...  \n",
       "1     POLYGON ((-123.72755 46.26449, -123.72755 46.2...  \n",
       "2     POLYGON ((-104.89337 34.08894, -104.89337 34.0...  \n",
       "3     POLYGON ((-96.68493 40.52330, -96.69219 40.523...  \n",
       "4     POLYGON ((-98.27370 40.11840, -98.27374 40.122...  \n",
       "...                                                 ...  \n",
       "3230  POLYGON ((-84.30237 34.57832, -84.30329 34.577...  \n",
       "3231  POLYGON ((-95.25857 48.88666, -95.25707 48.885...  \n",
       "3232  POLYGON ((-90.14883 32.40026, -90.14890 32.400...  \n",
       "3233  POLYGON ((-101.18138 32.21252, -101.18138 32.2...  \n",
       "3234  POLYGON ((-82.30872 38.28106, -82.30874 38.280...  \n",
       "\n",
       "[3235 rows x 18 columns]"
      ]
     },
     "execution_count": 17,
     "metadata": {},
     "output_type": "execute_result"
    }
   ],
   "source": [
    "# 2. making column names lowercased\n",
    "counties.columns = counties.columns.str.lower()\n",
    "counties"
   ]
  },
  {
   "cell_type": "code",
   "execution_count": 18,
   "metadata": {
    "tags": []
   },
   "outputs": [
    {
     "data": {
      "text/plain": [
       "statefp       object\n",
       "countyfp      object\n",
       "countyns      object\n",
       "geoid         object\n",
       "name          object\n",
       "namelsad      object\n",
       "lsad          object\n",
       "classfp       object\n",
       "mtfcc         object\n",
       "csafp         object\n",
       "cbsafp        object\n",
       "metdivfp      object\n",
       "funcstat      object\n",
       "aland          int64\n",
       "awater         int64\n",
       "intptlat      object\n",
       "intptlon      object\n",
       "geometry    geometry\n",
       "dtype: object"
      ]
     },
     "execution_count": 18,
     "metadata": {},
     "output_type": "execute_result"
    }
   ],
   "source": [
    "# 3. using dtypes to see the data types of the columns\n",
    "counties.dtypes"
   ]
  },
  {
   "cell_type": "code",
   "execution_count": 19,
   "metadata": {
    "tags": []
   },
   "outputs": [
    {
     "data": {
      "text/plain": [
       "<Geographic 2D CRS: EPSG:4269>\n",
       "Name: NAD83\n",
       "Axis Info [ellipsoidal]:\n",
       "- Lat[north]: Geodetic latitude (degree)\n",
       "- Lon[east]: Geodetic longitude (degree)\n",
       "Area of Use:\n",
       "- name: North America - NAD83\n",
       "- bounds: (167.65, 14.92, -47.74, 86.46)\n",
       "Datum: North American Datum 1983\n",
       "- Ellipsoid: GRS 1980\n",
       "- Prime Meridian: Greenwich"
      ]
     },
     "execution_count": 19,
     "metadata": {},
     "output_type": "execute_result"
    }
   ],
   "source": [
    "# 4. checking the crs for counties\n",
    "counties.crs"
   ]
  },
  {
   "cell_type": "code",
   "execution_count": 20,
   "metadata": {
    "tags": []
   },
   "outputs": [
    {
     "data": {
      "text/plain": [
       "<AxesSubplot:>"
      ]
     },
     "execution_count": 20,
     "metadata": {},
     "output_type": "execute_result"
    },
    {
     "data": {
      "image/png": "[encoded data removed]",
      "text/plain": [
       "<Figure size 640x480 with 1 Axes>"
      ]
     },
     "metadata": {},
     "output_type": "display_data"
    }
   ],
   "source": [
    "# 5. plotting counties data\n",
    "counties.plot()"
   ]
  },
  {
   "cell_type": "markdown",
   "metadata": {},
   "source": [
    "### Data selection\n",
    "\n",
    "Select all the counties for the state of New York in a new variable `ny_counties` and plot them. HINT: to find which counties correspond to NY, look at the metadata."
   ]
  },
  {
   "cell_type": "code",
   "execution_count": 21,
   "metadata": {
    "tags": []
   },
   "outputs": [],
   "source": [
    "# filtering for ny counties \n",
    "counties.dtypes\n",
    "#converting type of data for the county fp column\n",
    "counties['countyns']= counties['countyns'].astype('int')"
   ]
  },
  {
   "cell_type": "code",
   "execution_count": 22,
   "metadata": {
    "tags": []
   },
   "outputs": [
    {
     "data": {
      "text/plain": [
       "statefp       object\n",
       "countyfp      object\n",
       "countyns       int64\n",
       "geoid         object\n",
       "name          object\n",
       "namelsad      object\n",
       "lsad          object\n",
       "classfp       object\n",
       "mtfcc         object\n",
       "csafp         object\n",
       "cbsafp        object\n",
       "metdivfp      object\n",
       "funcstat      object\n",
       "aland          int64\n",
       "awater         int64\n",
       "intptlat      object\n",
       "intptlon      object\n",
       "geometry    geometry\n",
       "dtype: object"
      ]
     },
     "execution_count": 22,
     "metadata": {},
     "output_type": "execute_result"
    }
   ],
   "source": [
    "#checking to see if changes were made\n",
    "counties.dtypes"
   ]
  },
  {
   "cell_type": "code",
   "execution_count": 23,
   "metadata": {
    "tags": []
   },
   "outputs": [
    {
     "data": {
      "text/plain": [
       "<AxesSubplot:>"
      ]
     },
     "execution_count": 23,
     "metadata": {},
     "output_type": "execute_result"
    },
    {
     "data": {
      "image/png": "[encoded data removed]",
      "text/plain": [
       "<Figure size 640x480 with 1 Axes>"
      ]
     },
     "metadata": {},
     "output_type": "display_data"
    }
   ],
   "source": [
    "#using loc to specify which countyns corresponds to new york \n",
    "ny_counties = counties.loc[(counties.statefp == '36')]\n",
    "\n",
    "#plotting the ny counties dataset\n",
    "ny_counties.plot()"
   ]
  },
  {
   "cell_type": "markdown",
   "metadata": {},
   "source": [
    "## Merging\n",
    "\n",
    "The goal of this section is to create a single dataframe with the number of spills per county and the corresponding geometries for each county.\n",
    "\n",
    "### Explore data\n",
    "\n",
    "In the next cells:\n",
    "\n",
    "1. Print the names of counties in `ny_counties`, without repetition.\n",
    "2. Print the names of counties in `spills_per_county`, without repetition. (Do you notice anything?)\n",
    "3. Use the [`numpy` function `setdiff1d()`](https://numpy.org/doc/stable/reference/generated/numpy.setdiff1d.html) to find the county names that are in `spills_per_county`, but not in `ny_counties`. HINT: pay attention to the example in the documentation.\n",
    "4. Find the county names that are in `ny_counties`, but not in `spills_per_county`.\n",
    "5. Check the number of spills in 'Tuscarora Indian Reservation'.\n"
   ]
  },
  {
   "cell_type": "code",
   "execution_count": 24,
   "metadata": {
    "tags": []
   },
   "outputs": [
    {
     "name": "stdout",
     "output_type": "stream",
     "text": [
      "['Steuben' 'Saratoga' 'Allegany' 'Oswego' 'Ulster' 'St. Lawrence'\n",
      " 'Schuyler' 'Essex' 'Suffolk' 'Hamilton' 'Dutchess' 'Otsego' 'Tompkins'\n",
      " 'Albany' 'Cayuga' 'Greene' 'Herkimer' 'Warren' 'Jefferson' 'Clinton'\n",
      " 'Nassau' 'Madison' 'Washington' 'Westchester' 'Lewis' 'Ontario'\n",
      " 'Cortland' 'Richmond' 'Erie' 'Putnam' 'Montgomery' 'Sullivan' 'Orleans'\n",
      " 'Oneida' 'Cattaraugus' 'Yates' 'Tioga' 'Monroe' 'Schoharie' 'Broome'\n",
      " 'Rensselaer' 'Seneca' 'Queens' 'Genesee' 'Wayne' 'Niagara' 'Kings'\n",
      " 'Chemung' 'Wyoming' 'New York' 'Columbia' 'Chautauqua' 'Franklin'\n",
      " 'Onondaga' 'Chenango' 'Fulton' 'Rockland' 'Livingston' 'Delaware'\n",
      " 'Orange' 'Schenectady' 'Bronx']\n"
     ]
    },
    {
     "data": {
      "text/plain": [
       "62"
      ]
     },
     "execution_count": 24,
     "metadata": {},
     "output_type": "execute_result"
    }
   ],
   "source": [
    "# 1. printing ny_counties names\n",
    "print(ny_counties.name.unique())\n",
    "len(ny_counties.name.unique())"
   ]
  },
  {
   "cell_type": "code",
   "execution_count": 25,
   "metadata": {
    "tags": []
   },
   "outputs": [
    {
     "name": "stdout",
     "output_type": "stream",
     "text": [
      "['Albany' 'Allegany' 'Bronx' 'Broome' 'Cattaraugus' 'Cayuga' 'Chautauqua'\n",
      " 'Chemung' 'Chenango' 'Clinton' 'Columbia' 'Cortland' 'Delaware'\n",
      " 'Dutchess' 'Erie' 'Essex' 'Franklin' 'Fulton' 'Genesee' 'Greene'\n",
      " 'Hamilton' 'Herkimer' 'Jefferson' 'Kings' 'Lewis' 'Livingston' 'Madison'\n",
      " 'Monroe' 'Montgomery' 'Nassau' 'New Jersey - Region 2' 'New York'\n",
      " 'Niagara' 'Oneida' 'Onondaga' 'Ontario' 'Orange' 'Orleans' 'Oswego'\n",
      " 'Otsego' 'Putnam' 'Queens' 'Rensselaer' 'Richmond' 'Rockland' 'Saratoga'\n",
      " 'Schenectady' 'Schoharie' 'Schuyler' 'Seneca' 'St Lawrence' 'Steuben'\n",
      " 'Suffolk' 'Sullivan' 'Tioga' 'Tompkins' 'Tuscarora Indian Reservation'\n",
      " 'Ulster' 'Warren' 'Washington' 'Wayne' 'Westchester' 'Wyoming' 'Yates']\n"
     ]
    },
    {
     "data": {
      "text/plain": [
       "64"
      ]
     },
     "execution_count": 25,
     "metadata": {},
     "output_type": "execute_result"
    }
   ],
   "source": [
    "# 2. printing counties in spills_per_county\n",
    "print(spills_per_county.county.unique())\n",
    "len(spills_per_county.county.unique())"
   ]
  },
  {
   "cell_type": "markdown",
   "metadata": {},
   "source": [
    "The `spills_per_county` dataset has 2 more values than the `ny_counties` dataset does."
   ]
  },
  {
   "cell_type": "code",
   "execution_count": 26,
   "metadata": {
    "tags": []
   },
   "outputs": [
    {
     "data": {
      "text/plain": [
       "array(['New Jersey - Region 2', 'St Lawrence',\n",
       "       'Tuscarora Indian Reservation'], dtype=object)"
      ]
     },
     "execution_count": 26,
     "metadata": {},
     "output_type": "execute_result"
    }
   ],
   "source": [
    "# 3. using numpy function to find counties in spills per county but not ny counties \n",
    "np.setdiff1d(spills_per_county.county,ny_counties.name)"
   ]
  },
  {
   "cell_type": "code",
   "execution_count": 27,
   "metadata": {
    "tags": []
   },
   "outputs": [
    {
     "data": {
      "text/plain": [
       "array(['St. Lawrence'], dtype=object)"
      ]
     },
     "execution_count": 27,
     "metadata": {},
     "output_type": "execute_result"
    }
   ],
   "source": [
    "# 4. using numpy function to find counties in ny counties not in spills per county\n",
    "np.setdiff1d(ny_counties.name,spills_per_county.county)"
   ]
  },
  {
   "cell_type": "code",
   "execution_count": 28,
   "metadata": {
    "tags": []
   },
   "outputs": [
    {
     "data": {
      "text/html": [
       "<div>\n",
       "<style scoped>\n",
       "    .dataframe tbody tr th:only-of-type {\n",
       "        vertical-align: middle;\n",
       "    }\n",
       "\n",
       "    .dataframe tbody tr th {\n",
       "        vertical-align: top;\n",
       "    }\n",
       "\n",
       "    .dataframe thead th {\n",
       "        text-align: right;\n",
       "    }\n",
       "</style>\n",
       "<table border=\"1\" class=\"dataframe\">\n",
       "  <thead>\n",
       "    <tr style=\"text-align: right;\">\n",
       "      <th></th>\n",
       "      <th>county</th>\n",
       "      <th>n_spills</th>\n",
       "    </tr>\n",
       "  </thead>\n",
       "  <tbody>\n",
       "    <tr>\n",
       "      <th>56</th>\n",
       "      <td>Tuscarora Indian Reservation</td>\n",
       "      <td>1</td>\n",
       "    </tr>\n",
       "  </tbody>\n",
       "</table>\n",
       "</div>"
      ],
      "text/plain": [
       "                          county  n_spills\n",
       "56  Tuscarora Indian Reservation         1"
      ]
     },
     "execution_count": 28,
     "metadata": {},
     "output_type": "execute_result"
    }
   ],
   "source": [
    "# 5. \n",
    "spills_per_county.loc[spills_per_county['county'] == 'Tuscarora Indian Reservation']"
   ]
  },
  {
   "cell_type": "markdown",
   "metadata": {},
   "source": [
    "### Data updates\n",
    "\n",
    "In this section we will update 'St Lawrence' to 'St. Lawrence' in `spills_per_county` data frame.\n",
    "\n",
    "In the next cells:\n",
    "1. Check the row in `spills_per_county` that has 'St Lawrence'\n",
    "2. Run the code and read the explanation in the comments\n",
    "3. Run the code and read the explanation in the comments\n",
    "4. Use the `st_lawrence_index` and `at` to update St Lawrence name in `spills_per_county` dataframe\n",
    "5. Check the update was successfull"
   ]
  },
  {
   "cell_type": "code",
   "execution_count": 29,
   "metadata": {
    "tags": []
   },
   "outputs": [
    {
     "data": {
      "text/html": [
       "<div>\n",
       "<style scoped>\n",
       "    .dataframe tbody tr th:only-of-type {\n",
       "        vertical-align: middle;\n",
       "    }\n",
       "\n",
       "    .dataframe tbody tr th {\n",
       "        vertical-align: top;\n",
       "    }\n",
       "\n",
       "    .dataframe thead th {\n",
       "        text-align: right;\n",
       "    }\n",
       "</style>\n",
       "<table border=\"1\" class=\"dataframe\">\n",
       "  <thead>\n",
       "    <tr style=\"text-align: right;\">\n",
       "      <th></th>\n",
       "      <th>county</th>\n",
       "      <th>n_spills</th>\n",
       "    </tr>\n",
       "  </thead>\n",
       "  <tbody>\n",
       "    <tr>\n",
       "      <th>50</th>\n",
       "      <td>St Lawrence</td>\n",
       "      <td>65</td>\n",
       "    </tr>\n",
       "  </tbody>\n",
       "</table>\n",
       "</div>"
      ],
      "text/plain": [
       "         county  n_spills\n",
       "50  St Lawrence        65"
      ]
     },
     "execution_count": 29,
     "metadata": {},
     "output_type": "execute_result"
    }
   ],
   "source": [
    "# 1. using loc to find 'St Lawrence'\n",
    "spills_per_county.loc[spills_per_county['county'] == 'St Lawrence']"
   ]
  },
  {
   "cell_type": "code",
   "execution_count": 30,
   "metadata": {
    "tags": []
   },
   "outputs": [
    {
     "data": {
      "text/plain": [
       "Int64Index([50], dtype='int64')"
      ]
     },
     "execution_count": 30,
     "metadata": {},
     "output_type": "execute_result"
    }
   ],
   "source": [
    "# 2. we can get the index of that single row like this, to access the actual row index...\n",
    "spills_per_county[spills_per_county.county=='St Lawrence'].index"
   ]
  },
  {
   "cell_type": "code",
   "execution_count": 31,
   "metadata": {
    "tags": []
   },
   "outputs": [
    {
     "data": {
      "text/plain": [
       "50"
      ]
     },
     "execution_count": 31,
     "metadata": {},
     "output_type": "execute_result"
    }
   ],
   "source": [
    "# 3. we need to select the first item in that tuple using [0]\n",
    "st_lawrence_index = spills_per_county[spills_per_county.county=='St Lawrence'].index[0]\n",
    "st_lawrence_index"
   ]
  },
  {
   "cell_type": "code",
   "execution_count": 32,
   "metadata": {
    "tags": []
   },
   "outputs": [],
   "source": [
    "# 4. using the at function to replace the county name \n",
    "spills_per_county.at[st_lawrence_index, 'county'] = 'St. Lawrence'\n"
   ]
  },
  {
   "cell_type": "code",
   "execution_count": 33,
   "metadata": {
    "tags": []
   },
   "outputs": [
    {
     "name": "stdout",
     "output_type": "stream",
     "text": [
      "county      St. Lawrence\n",
      "n_spills              65\n",
      "Name: 50, dtype: object\n"
     ]
    }
   ],
   "source": [
    "# 5. checking to see if the 50th row index changed\n",
    "\n",
    "print(spills_per_county.iloc[50])"
   ]
  },
  {
   "cell_type": "markdown",
   "metadata": {},
   "source": [
    "### Merge\n",
    "\n",
    "In the following cells:\n",
    "1. Use this cell to make any other updates needed for making an inner join of the `spills_per_county` and `ny_counties`. \n",
    "2. Over-write `ny_counties` as the  inner join of the `spills_per_county` and `ny_counties` dataframes.\n",
    "\n",
    "From our previous exploration we know that Tuscarora Indian Reservation will not be in the join. Tuscarora Indian Reservation is located within Niagara county. \n",
    "\n",
    "3. Since the Tuscarora Indian Reservation does not appear in the `ny_counties` dataframe, add one spill to Niagara county. We will add a note about this in our final map. Add the cells you need to make this update **and** verify that the dataframe was updated."
   ]
  },
  {
   "cell_type": "code",
   "execution_count": 34,
   "metadata": {
    "tags": []
   },
   "outputs": [
    {
     "data": {
      "text/html": [
       "<div>\n",
       "<style scoped>\n",
       "    .dataframe tbody tr th:only-of-type {\n",
       "        vertical-align: middle;\n",
       "    }\n",
       "\n",
       "    .dataframe tbody tr th {\n",
       "        vertical-align: top;\n",
       "    }\n",
       "\n",
       "    .dataframe thead th {\n",
       "        text-align: right;\n",
       "    }\n",
       "</style>\n",
       "<table border=\"1\" class=\"dataframe\">\n",
       "  <thead>\n",
       "    <tr style=\"text-align: right;\">\n",
       "      <th></th>\n",
       "      <th>county</th>\n",
       "      <th>n_spills</th>\n",
       "    </tr>\n",
       "  </thead>\n",
       "  <tbody>\n",
       "    <tr>\n",
       "      <th>0</th>\n",
       "      <td>Albany</td>\n",
       "      <td>204</td>\n",
       "    </tr>\n",
       "    <tr>\n",
       "      <th>1</th>\n",
       "      <td>Allegany</td>\n",
       "      <td>30</td>\n",
       "    </tr>\n",
       "    <tr>\n",
       "      <th>2</th>\n",
       "      <td>Bronx</td>\n",
       "      <td>143</td>\n",
       "    </tr>\n",
       "    <tr>\n",
       "      <th>3</th>\n",
       "      <td>Broome</td>\n",
       "      <td>74</td>\n",
       "    </tr>\n",
       "    <tr>\n",
       "      <th>4</th>\n",
       "      <td>Cattaraugus</td>\n",
       "      <td>46</td>\n",
       "    </tr>\n",
       "    <tr>\n",
       "      <th>...</th>\n",
       "      <td>...</td>\n",
       "      <td>...</td>\n",
       "    </tr>\n",
       "    <tr>\n",
       "      <th>59</th>\n",
       "      <td>Washington</td>\n",
       "      <td>96</td>\n",
       "    </tr>\n",
       "    <tr>\n",
       "      <th>60</th>\n",
       "      <td>Wayne</td>\n",
       "      <td>38</td>\n",
       "    </tr>\n",
       "    <tr>\n",
       "      <th>61</th>\n",
       "      <td>Westchester</td>\n",
       "      <td>733</td>\n",
       "    </tr>\n",
       "    <tr>\n",
       "      <th>62</th>\n",
       "      <td>Wyoming</td>\n",
       "      <td>24</td>\n",
       "    </tr>\n",
       "    <tr>\n",
       "      <th>63</th>\n",
       "      <td>Yates</td>\n",
       "      <td>6</td>\n",
       "    </tr>\n",
       "  </tbody>\n",
       "</table>\n",
       "<p>64 rows × 2 columns</p>\n",
       "</div>"
      ],
      "text/plain": [
       "         county  n_spills\n",
       "0        Albany       204\n",
       "1      Allegany        30\n",
       "2         Bronx       143\n",
       "3        Broome        74\n",
       "4   Cattaraugus        46\n",
       "..          ...       ...\n",
       "59   Washington        96\n",
       "60        Wayne        38\n",
       "61  Westchester       733\n",
       "62      Wyoming        24\n",
       "63        Yates         6\n",
       "\n",
       "[64 rows x 2 columns]"
      ]
     },
     "execution_count": 34,
     "metadata": {},
     "output_type": "execute_result"
    }
   ],
   "source": [
    "spills_per_county"
   ]
  },
  {
   "cell_type": "code",
   "execution_count": 35,
   "metadata": {
    "tags": []
   },
   "outputs": [],
   "source": [
    "#changing the column name for counties to county for inner join\n",
    "ny_counties = ny_counties.rename(columns = {'name':'county'})\n",
    "ny_counties = ny_counties.reset_index()"
   ]
  },
  {
   "cell_type": "code",
   "execution_count": 36,
   "metadata": {
    "tags": []
   },
   "outputs": [],
   "source": [
    "# dropping the level_0 column and index column\n",
    "#ny_counties = ny_counties.drop(columns = ['level_0','index'])"
   ]
  },
  {
   "cell_type": "code",
   "execution_count": 37,
   "metadata": {
    "tags": []
   },
   "outputs": [
    {
     "data": {
      "text/plain": [
       "index          int64\n",
       "statefp       object\n",
       "countyfp      object\n",
       "countyns       int64\n",
       "geoid         object\n",
       "county        object\n",
       "namelsad      object\n",
       "lsad          object\n",
       "classfp       object\n",
       "mtfcc         object\n",
       "csafp         object\n",
       "cbsafp        object\n",
       "metdivfp      object\n",
       "funcstat      object\n",
       "aland          int64\n",
       "awater         int64\n",
       "intptlat      object\n",
       "intptlon      object\n",
       "geometry    geometry\n",
       "dtype: object"
      ]
     },
     "execution_count": 37,
     "metadata": {},
     "output_type": "execute_result"
    }
   ],
   "source": [
    "ny_counties.dtypes"
   ]
  },
  {
   "cell_type": "code",
   "execution_count": 38,
   "metadata": {},
   "outputs": [
    {
     "data": {
      "text/html": [
       "<div>\n",
       "<style scoped>\n",
       "    .dataframe tbody tr th:only-of-type {\n",
       "        vertical-align: middle;\n",
       "    }\n",
       "\n",
       "    .dataframe tbody tr th {\n",
       "        vertical-align: top;\n",
       "    }\n",
       "\n",
       "    .dataframe thead th {\n",
       "        text-align: right;\n",
       "    }\n",
       "</style>\n",
       "<table border=\"1\" class=\"dataframe\">\n",
       "  <thead>\n",
       "    <tr style=\"text-align: right;\">\n",
       "      <th></th>\n",
       "      <th>county</th>\n",
       "      <th>n_spills</th>\n",
       "      <th>index</th>\n",
       "      <th>statefp</th>\n",
       "      <th>countyfp</th>\n",
       "      <th>countyns</th>\n",
       "      <th>geoid</th>\n",
       "      <th>namelsad</th>\n",
       "      <th>lsad</th>\n",
       "      <th>classfp</th>\n",
       "      <th>mtfcc</th>\n",
       "      <th>csafp</th>\n",
       "      <th>cbsafp</th>\n",
       "      <th>metdivfp</th>\n",
       "      <th>funcstat</th>\n",
       "      <th>aland</th>\n",
       "      <th>awater</th>\n",
       "      <th>intptlat</th>\n",
       "      <th>intptlon</th>\n",
       "      <th>geometry</th>\n",
       "    </tr>\n",
       "  </thead>\n",
       "  <tbody>\n",
       "    <tr>\n",
       "      <th>0</th>\n",
       "      <td>Albany</td>\n",
       "      <td>204</td>\n",
       "      <td>607</td>\n",
       "      <td>36</td>\n",
       "      <td>001</td>\n",
       "      <td>974099</td>\n",
       "      <td>36001</td>\n",
       "      <td>Albany County</td>\n",
       "      <td>06</td>\n",
       "      <td>H1</td>\n",
       "      <td>G4020</td>\n",
       "      <td>None</td>\n",
       "      <td>None</td>\n",
       "      <td>None</td>\n",
       "      <td>A</td>\n",
       "      <td>1354273421</td>\n",
       "      <td>26971925</td>\n",
       "      <td>+42.5882401</td>\n",
       "      <td>-073.9740095</td>\n",
       "      <td>POLYGON ((-73.96379 42.44162, -73.96666 42.441...</td>\n",
       "    </tr>\n",
       "    <tr>\n",
       "      <th>1</th>\n",
       "      <td>Allegany</td>\n",
       "      <td>30</td>\n",
       "      <td>173</td>\n",
       "      <td>36</td>\n",
       "      <td>003</td>\n",
       "      <td>974100</td>\n",
       "      <td>36003</td>\n",
       "      <td>Allegany County</td>\n",
       "      <td>06</td>\n",
       "      <td>H1</td>\n",
       "      <td>G4020</td>\n",
       "      <td>None</td>\n",
       "      <td>None</td>\n",
       "      <td>None</td>\n",
       "      <td>A</td>\n",
       "      <td>2666225086</td>\n",
       "      <td>12989848</td>\n",
       "      <td>+42.2478532</td>\n",
       "      <td>-078.0261531</td>\n",
       "      <td>POLYGON ((-78.04342 42.51846, -78.04326 42.518...</td>\n",
       "    </tr>\n",
       "    <tr>\n",
       "      <th>2</th>\n",
       "      <td>Bronx</td>\n",
       "      <td>143</td>\n",
       "      <td>3164</td>\n",
       "      <td>36</td>\n",
       "      <td>005</td>\n",
       "      <td>974101</td>\n",
       "      <td>36005</td>\n",
       "      <td>Bronx County</td>\n",
       "      <td>06</td>\n",
       "      <td>H6</td>\n",
       "      <td>G4020</td>\n",
       "      <td>None</td>\n",
       "      <td>None</td>\n",
       "      <td>None</td>\n",
       "      <td>C</td>\n",
       "      <td>109235674</td>\n",
       "      <td>39353304</td>\n",
       "      <td>+40.8487111</td>\n",
       "      <td>-073.8529390</td>\n",
       "      <td>POLYGON ((-73.93381 40.88221, -73.93365 40.882...</td>\n",
       "    </tr>\n",
       "    <tr>\n",
       "      <th>3</th>\n",
       "      <td>Broome</td>\n",
       "      <td>74</td>\n",
       "      <td>2168</td>\n",
       "      <td>36</td>\n",
       "      <td>007</td>\n",
       "      <td>974102</td>\n",
       "      <td>36007</td>\n",
       "      <td>Broome County</td>\n",
       "      <td>06</td>\n",
       "      <td>H1</td>\n",
       "      <td>G4020</td>\n",
       "      <td>None</td>\n",
       "      <td>None</td>\n",
       "      <td>None</td>\n",
       "      <td>A</td>\n",
       "      <td>1827626589</td>\n",
       "      <td>25078245</td>\n",
       "      <td>+42.1619773</td>\n",
       "      <td>-075.8302833</td>\n",
       "      <td>POLYGON ((-75.74223 41.99805, -75.75080 41.997...</td>\n",
       "    </tr>\n",
       "    <tr>\n",
       "      <th>4</th>\n",
       "      <td>Cattaraugus</td>\n",
       "      <td>46</td>\n",
       "      <td>1931</td>\n",
       "      <td>36</td>\n",
       "      <td>009</td>\n",
       "      <td>974103</td>\n",
       "      <td>36009</td>\n",
       "      <td>Cattaraugus County</td>\n",
       "      <td>06</td>\n",
       "      <td>H1</td>\n",
       "      <td>G4020</td>\n",
       "      <td>None</td>\n",
       "      <td>None</td>\n",
       "      <td>None</td>\n",
       "      <td>A</td>\n",
       "      <td>3388125876</td>\n",
       "      <td>36783591</td>\n",
       "      <td>+42.2390986</td>\n",
       "      <td>-078.6623320</td>\n",
       "      <td>POLYGON ((-78.69725 41.99867, -78.69881 41.998...</td>\n",
       "    </tr>\n",
       "    <tr>\n",
       "      <th>...</th>\n",
       "      <td>...</td>\n",
       "      <td>...</td>\n",
       "      <td>...</td>\n",
       "      <td>...</td>\n",
       "      <td>...</td>\n",
       "      <td>...</td>\n",
       "      <td>...</td>\n",
       "      <td>...</td>\n",
       "      <td>...</td>\n",
       "      <td>...</td>\n",
       "      <td>...</td>\n",
       "      <td>...</td>\n",
       "      <td>...</td>\n",
       "      <td>...</td>\n",
       "      <td>...</td>\n",
       "      <td>...</td>\n",
       "      <td>...</td>\n",
       "      <td>...</td>\n",
       "      <td>...</td>\n",
       "      <td>...</td>\n",
       "    </tr>\n",
       "    <tr>\n",
       "      <th>57</th>\n",
       "      <td>Washington</td>\n",
       "      <td>96</td>\n",
       "      <td>1076</td>\n",
       "      <td>36</td>\n",
       "      <td>115</td>\n",
       "      <td>974155</td>\n",
       "      <td>36115</td>\n",
       "      <td>Washington County</td>\n",
       "      <td>06</td>\n",
       "      <td>H1</td>\n",
       "      <td>G4020</td>\n",
       "      <td>None</td>\n",
       "      <td>None</td>\n",
       "      <td>None</td>\n",
       "      <td>A</td>\n",
       "      <td>2152773115</td>\n",
       "      <td>38123568</td>\n",
       "      <td>+43.3123766</td>\n",
       "      <td>-073.4394282</td>\n",
       "      <td>POLYGON ((-73.26504 43.10615, -73.26504 43.106...</td>\n",
       "    </tr>\n",
       "    <tr>\n",
       "      <th>58</th>\n",
       "      <td>Wayne</td>\n",
       "      <td>38</td>\n",
       "      <td>2366</td>\n",
       "      <td>36</td>\n",
       "      <td>117</td>\n",
       "      <td>974156</td>\n",
       "      <td>36117</td>\n",
       "      <td>Wayne County</td>\n",
       "      <td>06</td>\n",
       "      <td>H1</td>\n",
       "      <td>G4020</td>\n",
       "      <td>None</td>\n",
       "      <td>None</td>\n",
       "      <td>None</td>\n",
       "      <td>A</td>\n",
       "      <td>1563913376</td>\n",
       "      <td>2018184723</td>\n",
       "      <td>+43.2181139</td>\n",
       "      <td>-077.0494024</td>\n",
       "      <td>POLYGON ((-76.70573 43.13143, -76.70561 43.129...</td>\n",
       "    </tr>\n",
       "    <tr>\n",
       "      <th>59</th>\n",
       "      <td>Westchester</td>\n",
       "      <td>733</td>\n",
       "      <td>1131</td>\n",
       "      <td>36</td>\n",
       "      <td>119</td>\n",
       "      <td>974157</td>\n",
       "      <td>36119</td>\n",
       "      <td>Westchester County</td>\n",
       "      <td>06</td>\n",
       "      <td>H1</td>\n",
       "      <td>G4020</td>\n",
       "      <td>None</td>\n",
       "      <td>None</td>\n",
       "      <td>None</td>\n",
       "      <td>A</td>\n",
       "      <td>1115811940</td>\n",
       "      <td>179391718</td>\n",
       "      <td>+41.1526862</td>\n",
       "      <td>-073.7457526</td>\n",
       "      <td>POLYGON ((-73.65762 40.98550, -73.65739 40.985...</td>\n",
       "    </tr>\n",
       "    <tr>\n",
       "      <th>60</th>\n",
       "      <td>Wyoming</td>\n",
       "      <td>24</td>\n",
       "      <td>2433</td>\n",
       "      <td>36</td>\n",
       "      <td>121</td>\n",
       "      <td>974158</td>\n",
       "      <td>36121</td>\n",
       "      <td>Wyoming County</td>\n",
       "      <td>06</td>\n",
       "      <td>H1</td>\n",
       "      <td>G4020</td>\n",
       "      <td>None</td>\n",
       "      <td>None</td>\n",
       "      <td>None</td>\n",
       "      <td>A</td>\n",
       "      <td>1535219438</td>\n",
       "      <td>9158067</td>\n",
       "      <td>+42.7013627</td>\n",
       "      <td>-078.2285667</td>\n",
       "      <td>POLYGON ((-77.95538 42.71371, -77.95537 42.713...</td>\n",
       "    </tr>\n",
       "    <tr>\n",
       "      <th>61</th>\n",
       "      <td>Yates</td>\n",
       "      <td>6</td>\n",
       "      <td>2022</td>\n",
       "      <td>36</td>\n",
       "      <td>123</td>\n",
       "      <td>974159</td>\n",
       "      <td>36123</td>\n",
       "      <td>Yates County</td>\n",
       "      <td>06</td>\n",
       "      <td>H1</td>\n",
       "      <td>G4020</td>\n",
       "      <td>None</td>\n",
       "      <td>None</td>\n",
       "      <td>None</td>\n",
       "      <td>A</td>\n",
       "      <td>875777224</td>\n",
       "      <td>97488350</td>\n",
       "      <td>+42.6382370</td>\n",
       "      <td>-077.1043238</td>\n",
       "      <td>POLYGON ((-77.35735 42.66919, -77.35734 42.669...</td>\n",
       "    </tr>\n",
       "  </tbody>\n",
       "</table>\n",
       "<p>62 rows × 20 columns</p>\n",
       "</div>"
      ],
      "text/plain": [
       "         county  n_spills  index statefp countyfp  countyns  geoid  \\\n",
       "0        Albany       204    607      36      001    974099  36001   \n",
       "1      Allegany        30    173      36      003    974100  36003   \n",
       "2         Bronx       143   3164      36      005    974101  36005   \n",
       "3        Broome        74   2168      36      007    974102  36007   \n",
       "4   Cattaraugus        46   1931      36      009    974103  36009   \n",
       "..          ...       ...    ...     ...      ...       ...    ...   \n",
       "57   Washington        96   1076      36      115    974155  36115   \n",
       "58        Wayne        38   2366      36      117    974156  36117   \n",
       "59  Westchester       733   1131      36      119    974157  36119   \n",
       "60      Wyoming        24   2433      36      121    974158  36121   \n",
       "61        Yates         6   2022      36      123    974159  36123   \n",
       "\n",
       "              namelsad lsad classfp  mtfcc csafp cbsafp metdivfp funcstat  \\\n",
       "0        Albany County   06      H1  G4020  None   None     None        A   \n",
       "1      Allegany County   06      H1  G4020  None   None     None        A   \n",
       "2         Bronx County   06      H6  G4020  None   None     None        C   \n",
       "3        Broome County   06      H1  G4020  None   None     None        A   \n",
       "4   Cattaraugus County   06      H1  G4020  None   None     None        A   \n",
       "..                 ...  ...     ...    ...   ...    ...      ...      ...   \n",
       "57   Washington County   06      H1  G4020  None   None     None        A   \n",
       "58        Wayne County   06      H1  G4020  None   None     None        A   \n",
       "59  Westchester County   06      H1  G4020  None   None     None        A   \n",
       "60      Wyoming County   06      H1  G4020  None   None     None        A   \n",
       "61        Yates County   06      H1  G4020  None   None     None        A   \n",
       "\n",
       "         aland      awater     intptlat      intptlon  \\\n",
       "0   1354273421    26971925  +42.5882401  -073.9740095   \n",
       "1   2666225086    12989848  +42.2478532  -078.0261531   \n",
       "2    109235674    39353304  +40.8487111  -073.8529390   \n",
       "3   1827626589    25078245  +42.1619773  -075.8302833   \n",
       "4   3388125876    36783591  +42.2390986  -078.6623320   \n",
       "..         ...         ...          ...           ...   \n",
       "57  2152773115    38123568  +43.3123766  -073.4394282   \n",
       "58  1563913376  2018184723  +43.2181139  -077.0494024   \n",
       "59  1115811940   179391718  +41.1526862  -073.7457526   \n",
       "60  1535219438     9158067  +42.7013627  -078.2285667   \n",
       "61   875777224    97488350  +42.6382370  -077.1043238   \n",
       "\n",
       "                                             geometry  \n",
       "0   POLYGON ((-73.96379 42.44162, -73.96666 42.441...  \n",
       "1   POLYGON ((-78.04342 42.51846, -78.04326 42.518...  \n",
       "2   POLYGON ((-73.93381 40.88221, -73.93365 40.882...  \n",
       "3   POLYGON ((-75.74223 41.99805, -75.75080 41.997...  \n",
       "4   POLYGON ((-78.69725 41.99867, -78.69881 41.998...  \n",
       "..                                                ...  \n",
       "57  POLYGON ((-73.26504 43.10615, -73.26504 43.106...  \n",
       "58  POLYGON ((-76.70573 43.13143, -76.70561 43.129...  \n",
       "59  POLYGON ((-73.65762 40.98550, -73.65739 40.985...  \n",
       "60  POLYGON ((-77.95538 42.71371, -77.95537 42.713...  \n",
       "61  POLYGON ((-77.35735 42.66919, -77.35734 42.669...  \n",
       "\n",
       "[62 rows x 20 columns]"
      ]
     },
     "execution_count": 38,
     "metadata": {},
     "output_type": "execute_result"
    }
   ],
   "source": [
    "# 1. \n",
    "# inner join  using pandas merge and specifying the column name to which i'm merging\n",
    "ny_counties = pd.merge(spills_per_county,ny_counties,\n",
    "                      how = 'inner',\n",
    "                      on = 'county')\n",
    "ny_counties"
   ]
  },
  {
   "cell_type": "code",
   "execution_count": 39,
   "metadata": {},
   "outputs": [
    {
     "data": {
      "text/plain": [
       "31"
      ]
     },
     "execution_count": 39,
     "metadata": {},
     "output_type": "execute_result"
    }
   ],
   "source": [
    "# 2. indexing Niagra\n",
    "niagara_index = ny_counties[ny_counties.county == 'Niagara'].index[0]\n",
    "niagara_index"
   ]
  },
  {
   "cell_type": "code",
   "execution_count": 40,
   "metadata": {},
   "outputs": [
    {
     "data": {
      "text/html": [
       "<div>\n",
       "<style scoped>\n",
       "    .dataframe tbody tr th:only-of-type {\n",
       "        vertical-align: middle;\n",
       "    }\n",
       "\n",
       "    .dataframe tbody tr th {\n",
       "        vertical-align: top;\n",
       "    }\n",
       "\n",
       "    .dataframe thead th {\n",
       "        text-align: right;\n",
       "    }\n",
       "</style>\n",
       "<table border=\"1\" class=\"dataframe\">\n",
       "  <thead>\n",
       "    <tr style=\"text-align: right;\">\n",
       "      <th></th>\n",
       "      <th>county</th>\n",
       "      <th>n_spills</th>\n",
       "      <th>index</th>\n",
       "      <th>statefp</th>\n",
       "      <th>countyfp</th>\n",
       "      <th>countyns</th>\n",
       "      <th>geoid</th>\n",
       "      <th>namelsad</th>\n",
       "      <th>lsad</th>\n",
       "      <th>classfp</th>\n",
       "      <th>mtfcc</th>\n",
       "      <th>csafp</th>\n",
       "      <th>cbsafp</th>\n",
       "      <th>metdivfp</th>\n",
       "      <th>funcstat</th>\n",
       "      <th>aland</th>\n",
       "      <th>awater</th>\n",
       "      <th>intptlat</th>\n",
       "      <th>intptlon</th>\n",
       "      <th>geometry</th>\n",
       "    </tr>\n",
       "  </thead>\n",
       "  <tbody>\n",
       "    <tr>\n",
       "      <th>31</th>\n",
       "      <td>Niagara</td>\n",
       "      <td>89</td>\n",
       "      <td>2370</td>\n",
       "      <td>36</td>\n",
       "      <td>063</td>\n",
       "      <td>974130</td>\n",
       "      <td>36063</td>\n",
       "      <td>Niagara County</td>\n",
       "      <td>06</td>\n",
       "      <td>H1</td>\n",
       "      <td>G4020</td>\n",
       "      <td>None</td>\n",
       "      <td>None</td>\n",
       "      <td>None</td>\n",
       "      <td>A</td>\n",
       "      <td>1352887560</td>\n",
       "      <td>1598842379</td>\n",
       "      <td>+43.2726719</td>\n",
       "      <td>-078.8129431</td>\n",
       "      <td>POLYGON ((-78.49165 43.08396, -78.49179 43.084...</td>\n",
       "    </tr>\n",
       "  </tbody>\n",
       "</table>\n",
       "</div>"
      ],
      "text/plain": [
       "     county  n_spills  index statefp countyfp  countyns  geoid  \\\n",
       "31  Niagara        89   2370      36      063    974130  36063   \n",
       "\n",
       "          namelsad lsad classfp  mtfcc csafp cbsafp metdivfp funcstat  \\\n",
       "31  Niagara County   06      H1  G4020  None   None     None        A   \n",
       "\n",
       "         aland      awater     intptlat      intptlon  \\\n",
       "31  1352887560  1598842379  +43.2726719  -078.8129431   \n",
       "\n",
       "                                             geometry  \n",
       "31  POLYGON ((-78.49165 43.08396, -78.49179 43.084...  "
      ]
     },
     "execution_count": 40,
     "metadata": {},
     "output_type": "execute_result"
    }
   ],
   "source": [
    "# 3. your code here\n",
    "ny_counties.at[niagara_index,'n_spills'] +=1\n",
    "\n",
    "ny_counties.loc[ny_counties['county'] == 'Niagara']"
   ]
  },
  {
   "cell_type": "markdown",
   "metadata": {},
   "source": [
    "## Map\n",
    "Create a choropleth map of the number of petroleum spills per county in the state of New York in 2023. \n",
    "Your map should have (at least) the following updates:\n",
    "- a legend indicating the number of spills\n",
    "- an updated color map\n",
    "- a title \n",
    "- no axis\n",
    "- an annotation with the data source (New York State Department of Environmental Conservation), date of access HINT: check the graph we did for power plants, \n",
    "- an annotation indicating one spill occurred in Tuscarora Indian Reservation within Niagara county"
   ]
  },
  {
   "cell_type": "markdown",
   "metadata": {},
   "source": [
    "Tuscarora Indian Reservation in Niagara county"
   ]
  },
  {
   "cell_type": "code",
   "execution_count": 51,
   "metadata": {
    "tags": []
   },
   "outputs": [
    {
     "data": {
      "text/plain": [
       "Index(['county', 'n_spills'], dtype='object')"
      ]
     },
     "execution_count": 51,
     "metadata": {},
     "output_type": "execute_result"
    }
   ],
   "source": [
    "spills_per_county.columns"
   ]
  },
  {
   "cell_type": "code",
   "execution_count": 59,
   "metadata": {
    "tags": []
   },
   "outputs": [
    {
     "data": {
      "text/plain": [
       "<AxesSubplot:>"
      ]
     },
     "execution_count": 59,
     "metadata": {},
     "output_type": "execute_result"
    },
    {
     "data": {
      "image/png": "[encoded data removed]",
      "text/plain": [
       "<Figure size 640x480 with 1 Axes>"
      ]
     },
     "metadata": {},
     "output_type": "display_data"
    }
   ],
   "source": [
    "# converting ny_counties to a geopandas dataframe\n",
    "ny_counties = gpd.GeoDataFrame(ny_counties,\n",
    "                               geometry=gpd.points_from_xy(ny_counties.intptlon, ny_counties.intptlat),\n",
    "                               crs = 'EPSG:4269')\n",
    "ny_counties.plot()"
   ]
  },
  {
   "cell_type": "code",
   "execution_count": 67,
   "metadata": {
    "tags": []
   },
   "outputs": [
    {
     "data": {
      "text/plain": [
       "62"
      ]
     },
     "execution_count": 67,
     "metadata": {},
     "output_type": "execute_result"
    }
   ],
   "source": [
    "len(ny_counties)"
   ]
  },
  {
   "cell_type": "code",
   "execution_count": 76,
   "metadata": {},
   "outputs": [
    {
     "ename": "TypeError",
     "evalue": "__init__() got an unexpected keyword argument 'loc'",
     "output_type": "error",
     "traceback": [
      "\u001b[0;31m---------------------------------------------------------------------------\u001b[0m",
      "\u001b[0;31mTypeError\u001b[0m                                 Traceback (most recent call last)",
      "\u001b[0;32m/tmp/ipykernel_1424766/1430405254.py\u001b[0m in \u001b[0;36m<module>\u001b[0;34m\u001b[0m\n\u001b[1;32m     12\u001b[0m                  \u001b[0mmarkersize\u001b[0m \u001b[0;34m=\u001b[0m \u001b[0;36m0.5\u001b[0m\u001b[0;34m,\u001b[0m\u001b[0;34m\u001b[0m\u001b[0;34m\u001b[0m\u001b[0m\n\u001b[1;32m     13\u001b[0m                  alpha = 0.75)\n\u001b[0;32m---> 14\u001b[0;31m ny_counties.plot(ax = ax, \n\u001b[0m\u001b[1;32m     15\u001b[0m                  \u001b[0mcolumn\u001b[0m \u001b[0;34m=\u001b[0m \u001b[0;34m'n_spills'\u001b[0m\u001b[0;34m,\u001b[0m\u001b[0;34m\u001b[0m\u001b[0;34m\u001b[0m\u001b[0m\n\u001b[1;32m     16\u001b[0m                  \u001b[0mmarkersize\u001b[0m \u001b[0;34m=\u001b[0m \u001b[0;34m'n_spills'\u001b[0m\u001b[0;34m,\u001b[0m\u001b[0;34m\u001b[0m\u001b[0;34m\u001b[0m\u001b[0m\n",
      "\u001b[0;32m/opt/anaconda3/lib/python3.9/site-packages/geopandas/plotting.py\u001b[0m in \u001b[0;36m__call__\u001b[0;34m(self, *args, **kwargs)\u001b[0m\n\u001b[1;32m    966\u001b[0m         \u001b[0mkind\u001b[0m \u001b[0;34m=\u001b[0m \u001b[0mkwargs\u001b[0m\u001b[0;34m.\u001b[0m\u001b[0mpop\u001b[0m\u001b[0;34m(\u001b[0m\u001b[0;34m\"kind\"\u001b[0m\u001b[0;34m,\u001b[0m \u001b[0;34m\"geo\"\u001b[0m\u001b[0;34m)\u001b[0m\u001b[0;34m\u001b[0m\u001b[0;34m\u001b[0m\u001b[0m\n\u001b[1;32m    967\u001b[0m         \u001b[0;32mif\u001b[0m \u001b[0mkind\u001b[0m \u001b[0;34m==\u001b[0m \u001b[0;34m\"geo\"\u001b[0m\u001b[0;34m:\u001b[0m\u001b[0;34m\u001b[0m\u001b[0;34m\u001b[0m\u001b[0m\n\u001b[0;32m--> 968\u001b[0;31m             \u001b[0;32mreturn\u001b[0m \u001b[0mplot_dataframe\u001b[0m\u001b[0;34m(\u001b[0m\u001b[0mdata\u001b[0m\u001b[0;34m,\u001b[0m \u001b[0;34m*\u001b[0m\u001b[0margs\u001b[0m\u001b[0;34m,\u001b[0m \u001b[0;34m**\u001b[0m\u001b[0mkwargs\u001b[0m\u001b[0;34m)\u001b[0m\u001b[0;34m\u001b[0m\u001b[0;34m\u001b[0m\u001b[0m\n\u001b[0m\u001b[1;32m    969\u001b[0m         \u001b[0;32mif\u001b[0m \u001b[0mkind\u001b[0m \u001b[0;32min\u001b[0m \u001b[0mself\u001b[0m\u001b[0;34m.\u001b[0m\u001b[0m_pandas_kinds\u001b[0m\u001b[0;34m:\u001b[0m\u001b[0;34m\u001b[0m\u001b[0;34m\u001b[0m\u001b[0m\n\u001b[1;32m    970\u001b[0m             \u001b[0;31m# Access pandas plots\u001b[0m\u001b[0;34m\u001b[0m\u001b[0;34m\u001b[0m\u001b[0m\n",
      "\u001b[0;32m/opt/anaconda3/lib/python3.9/site-packages/geopandas/plotting.py\u001b[0m in \u001b[0;36mplot_dataframe\u001b[0;34m(df, column, cmap, color, ax, cax, categorical, legend, scheme, k, vmin, vmax, markersize, figsize, legend_kwds, categories, classification_kwds, missing_kwds, aspect, **style_kwds)\u001b[0m\n\u001b[1;32m    951\u001b[0m \u001b[0;34m\u001b[0m\u001b[0m\n\u001b[1;32m    952\u001b[0m             \u001b[0mn_cmap\u001b[0m\u001b[0;34m.\u001b[0m\u001b[0mset_array\u001b[0m\u001b[0;34m(\u001b[0m\u001b[0mnp\u001b[0m\u001b[0;34m.\u001b[0m\u001b[0marray\u001b[0m\u001b[0;34m(\u001b[0m\u001b[0;34m[\u001b[0m\u001b[0;34m]\u001b[0m\u001b[0;34m)\u001b[0m\u001b[0;34m)\u001b[0m\u001b[0;34m\u001b[0m\u001b[0;34m\u001b[0m\u001b[0m\n\u001b[0;32m--> 953\u001b[0;31m             \u001b[0max\u001b[0m\u001b[0;34m.\u001b[0m\u001b[0mget_figure\u001b[0m\u001b[0;34m(\u001b[0m\u001b[0;34m)\u001b[0m\u001b[0;34m.\u001b[0m\u001b[0mcolorbar\u001b[0m\u001b[0;34m(\u001b[0m\u001b[0mn_cmap\u001b[0m\u001b[0;34m,\u001b[0m \u001b[0;34m**\u001b[0m\u001b[0mlegend_kwds\u001b[0m\u001b[0;34m)\u001b[0m\u001b[0;34m\u001b[0m\u001b[0;34m\u001b[0m\u001b[0m\n\u001b[0m\u001b[1;32m    954\u001b[0m \u001b[0;34m\u001b[0m\u001b[0m\n\u001b[1;32m    955\u001b[0m     \u001b[0mplt\u001b[0m\u001b[0;34m.\u001b[0m\u001b[0mdraw\u001b[0m\u001b[0;34m(\u001b[0m\u001b[0;34m)\u001b[0m\u001b[0;34m\u001b[0m\u001b[0;34m\u001b[0m\u001b[0m\n",
      "\u001b[0;32m/opt/anaconda3/lib/python3.9/site-packages/matplotlib/figure.py\u001b[0m in \u001b[0;36mcolorbar\u001b[0;34m(self, mappable, cax, ax, use_gridspec, **kw)\u001b[0m\n\u001b[1;32m   1208\u001b[0m         \u001b[0mcb_kw\u001b[0m \u001b[0;34m=\u001b[0m \u001b[0;34m{\u001b[0m\u001b[0mk\u001b[0m\u001b[0;34m:\u001b[0m \u001b[0mv\u001b[0m \u001b[0;32mfor\u001b[0m \u001b[0mk\u001b[0m\u001b[0;34m,\u001b[0m \u001b[0mv\u001b[0m \u001b[0;32min\u001b[0m \u001b[0mkw\u001b[0m\u001b[0;34m.\u001b[0m\u001b[0mitems\u001b[0m\u001b[0;34m(\u001b[0m\u001b[0;34m)\u001b[0m \u001b[0;32mif\u001b[0m \u001b[0mk\u001b[0m \u001b[0;32mnot\u001b[0m \u001b[0;32min\u001b[0m \u001b[0mNON_COLORBAR_KEYS\u001b[0m\u001b[0;34m}\u001b[0m\u001b[0;34m\u001b[0m\u001b[0;34m\u001b[0m\u001b[0m\n\u001b[1;32m   1209\u001b[0m \u001b[0;34m\u001b[0m\u001b[0m\n\u001b[0;32m-> 1210\u001b[0;31m         \u001b[0mcb\u001b[0m \u001b[0;34m=\u001b[0m \u001b[0mcbar\u001b[0m\u001b[0;34m.\u001b[0m\u001b[0mColorbar\u001b[0m\u001b[0;34m(\u001b[0m\u001b[0mcax\u001b[0m\u001b[0;34m,\u001b[0m \u001b[0mmappable\u001b[0m\u001b[0;34m,\u001b[0m \u001b[0;34m**\u001b[0m\u001b[0mcb_kw\u001b[0m\u001b[0;34m)\u001b[0m\u001b[0;34m\u001b[0m\u001b[0;34m\u001b[0m\u001b[0m\n\u001b[0m\u001b[1;32m   1211\u001b[0m \u001b[0;34m\u001b[0m\u001b[0m\n\u001b[1;32m   1212\u001b[0m         \u001b[0;32mif\u001b[0m \u001b[0;32mnot\u001b[0m \u001b[0muserax\u001b[0m\u001b[0;34m:\u001b[0m\u001b[0;34m\u001b[0m\u001b[0;34m\u001b[0m\u001b[0m\n",
      "\u001b[0;31mTypeError\u001b[0m: __init__() got an unexpected keyword argument 'loc'"
     ]
    },
    {
     "data": {
      "image/png": "[encoded data removed]",
      "text/plain": [
       "<Figure size 640x480 with 2 Axes>"
      ]
     },
     "metadata": {},
     "output_type": "display_data"
    }
   ],
   "source": [
    "\n",
    "fig, ax = plt.subplots()\n",
    "# remove the axis box around the map\n",
    "ax.axis('off')\n",
    "# update title\n",
    "ax.set_title('Number of Petroleum Spills per County in New York in 2022', fontsize = 15)\n",
    "ny_map = counties.loc[(counties.statefp == '36')]\n",
    "#adding new york boundary map\n",
    "ny_map.plot(ax = ax,\n",
    "                 color = '#FFFFFF',\n",
    "                 edgecolor = 'slategray',\n",
    "                 column = 'n_spills',\n",
    "                 markersize = 0.5,\n",
    "                 alpha = 0.75)\n",
    "ny_counties.plot(ax = ax, \n",
    "                 column = 'n_spills',\n",
    "                 markersize = 'n_spills',\n",
    "                 cmap ='BuGn',\n",
    "                 legend = True,\n",
    "                 legend_kwds= {'loc': \"lower right\", \n",
    "                                'title':'Number of Petroleum Spills',\n",
    "                                'title_fontsize':'small', \n",
    "                                'fontsize':'small'})\n",
    "plt.show()"
   ]
  },
  {
   "cell_type": "markdown",
   "metadata": {},
   "source": [
    "## Final code\n",
    "\n",
    "Collect all the relevant code into the first blank cell of the notebook titled \"FINAL CODE\". This single cell will have the end-to-end workflow: from importing libraries and loading the data, to producing the graph. The *only* ouput of this cell should be the graph you produced in the previous exercise. For each line, add a single comment explaining what the code does."
   ]
  }
 ],
 "metadata": {
  "kernelspec": {
   "display_name": "Anaconda 3 (Base)",
   "language": "python",
   "name": "base"
  },
  "language_info": {
   "codemirror_mode": {
    "name": "ipython",
    "version": 3
   },
   "file_extension": ".py",
   "mimetype": "text/x-python",
   "name": "python",
   "nbconvert_exporter": "python",
   "pygments_lexer": "ipython3",
   "version": "3.9.13"
  },
  "vscode": {
   "interpreter": {
    "hash": "fd47fb98a7ce7f6a10c657f2a810bfb9d752313f8f3dd9c5b44bfbb724ce30e0"
   }
  }
 },
 "nbformat": 4,
 "nbformat_minor": 4
}
